{
  "nbformat": 4,
  "nbformat_minor": 0,
  "metadata": {
    "colab": {
      "name": "2HW-Shmarin.ipynb",
      "provenance": [],
      "collapsed_sections": [],
      "include_colab_link": true
    },
    "kernelspec": {
      "display_name": "Python 3",
      "language": "python",
      "name": "python3"
    },
    "language_info": {
      "codemirror_mode": {
        "name": "ipython",
        "version": 3
      },
      "file_extension": ".py",
      "mimetype": "text/x-python",
      "name": "python",
      "nbconvert_exporter": "python",
      "pygments_lexer": "ipython3",
      "version": "3.8.5"
    }
  },
  "cells": [
    {
      "cell_type": "markdown",
      "metadata": {
        "id": "view-in-github",
        "colab_type": "text"
      },
      "source": [
        "<a href=\"https://colab.research.google.com/github/Yakov-Jak/ML_in_business/blob/main/2HW_Shmarin.ipynb\" target=\"_parent\"><img src=\"https://colab.research.google.com/assets/colab-badge.svg\" alt=\"Open In Colab\"/></a>"
      ]
    },
    {
      "cell_type": "code",
      "metadata": {
        "colab": {
          "base_uri": "https://localhost:8080/"
        },
        "id": "1yqhFYoKOIIw",
        "outputId": "b13013b0-281a-4944-d598-757b706650f2"
      },
      "source": [
        "!pip install razdel"
      ],
      "execution_count": 13,
      "outputs": [
        {
          "output_type": "stream",
          "name": "stdout",
          "text": [
            "Collecting razdel\n",
            "  Downloading razdel-0.5.0-py3-none-any.whl (21 kB)\n",
            "Installing collected packages: razdel\n",
            "Successfully installed razdel-0.5.0\n"
          ]
        }
      ]
    },
    {
      "cell_type": "code",
      "metadata": {
        "colab": {
          "base_uri": "https://localhost:8080/"
        },
        "id": "-sNoY9zpOQN7",
        "outputId": "aa5ae916-0d87-4a57-df8d-723d429f8eb0"
      },
      "source": [
        "!pip install pymorphy2"
      ],
      "execution_count": 14,
      "outputs": [
        {
          "output_type": "stream",
          "name": "stdout",
          "text": [
            "Collecting pymorphy2\n",
            "  Downloading pymorphy2-0.9.1-py3-none-any.whl (55 kB)\n",
            "\u001b[?25l\r\u001b[K     |██████                          | 10 kB 22.4 MB/s eta 0:00:01\r\u001b[K     |███████████▉                    | 20 kB 25.2 MB/s eta 0:00:01\r\u001b[K     |█████████████████▊              | 30 kB 28.8 MB/s eta 0:00:01\r\u001b[K     |███████████████████████▋        | 40 kB 23.2 MB/s eta 0:00:01\r\u001b[K     |█████████████████████████████▌  | 51 kB 16.4 MB/s eta 0:00:01\r\u001b[K     |████████████████████████████████| 55 kB 3.3 MB/s \n",
            "\u001b[?25hRequirement already satisfied: docopt>=0.6 in /usr/local/lib/python3.7/dist-packages (from pymorphy2) (0.6.2)\n",
            "Collecting pymorphy2-dicts-ru<3.0,>=2.4\n",
            "  Downloading pymorphy2_dicts_ru-2.4.417127.4579844-py2.py3-none-any.whl (8.2 MB)\n",
            "\u001b[K     |████████████████████████████████| 8.2 MB 12.9 MB/s \n",
            "\u001b[?25hCollecting dawg-python>=0.7.1\n",
            "  Downloading DAWG_Python-0.7.2-py2.py3-none-any.whl (11 kB)\n",
            "Installing collected packages: pymorphy2-dicts-ru, dawg-python, pymorphy2\n",
            "Successfully installed dawg-python-0.7.2 pymorphy2-0.9.1 pymorphy2-dicts-ru-2.4.417127.4579844\n"
          ]
        }
      ]
    },
    {
      "cell_type": "code",
      "metadata": {
        "colab": {
          "base_uri": "https://localhost:8080/",
          "height": 925
        },
        "id": "vBnKp059tc57",
        "outputId": "1e4c9169-b57e-4bf1-9e8f-550ee4bae02a"
      },
      "source": [
        "!pip install pyLDAvis"
      ],
      "execution_count": 15,
      "outputs": [
        {
          "output_type": "stream",
          "name": "stdout",
          "text": [
            "Collecting pyLDAvis\n",
            "  Downloading pyLDAvis-3.3.1.tar.gz (1.7 MB)\n",
            "\u001b[?25l\r\u001b[K     |▏                               | 10 kB 21.6 MB/s eta 0:00:01\r\u001b[K     |▍                               | 20 kB 23.4 MB/s eta 0:00:01\r\u001b[K     |▋                               | 30 kB 28.4 MB/s eta 0:00:01\r\u001b[K     |▉                               | 40 kB 23.7 MB/s eta 0:00:01\r\u001b[K     |█                               | 51 kB 19.5 MB/s eta 0:00:01\r\u001b[K     |█▏                              | 61 kB 14.9 MB/s eta 0:00:01\r\u001b[K     |█▍                              | 71 kB 13.2 MB/s eta 0:00:01\r\u001b[K     |█▋                              | 81 kB 14.2 MB/s eta 0:00:01\r\u001b[K     |█▉                              | 92 kB 15.5 MB/s eta 0:00:01\r\u001b[K     |██                              | 102 kB 16.2 MB/s eta 0:00:01\r\u001b[K     |██▏                             | 112 kB 16.2 MB/s eta 0:00:01\r\u001b[K     |██▍                             | 122 kB 16.2 MB/s eta 0:00:01\r\u001b[K     |██▋                             | 133 kB 16.2 MB/s eta 0:00:01\r\u001b[K     |██▊                             | 143 kB 16.2 MB/s eta 0:00:01\r\u001b[K     |███                             | 153 kB 16.2 MB/s eta 0:00:01\r\u001b[K     |███▏                            | 163 kB 16.2 MB/s eta 0:00:01\r\u001b[K     |███▍                            | 174 kB 16.2 MB/s eta 0:00:01\r\u001b[K     |███▋                            | 184 kB 16.2 MB/s eta 0:00:01\r\u001b[K     |███▊                            | 194 kB 16.2 MB/s eta 0:00:01\r\u001b[K     |████                            | 204 kB 16.2 MB/s eta 0:00:01\r\u001b[K     |████▏                           | 215 kB 16.2 MB/s eta 0:00:01\r\u001b[K     |████▍                           | 225 kB 16.2 MB/s eta 0:00:01\r\u001b[K     |████▋                           | 235 kB 16.2 MB/s eta 0:00:01\r\u001b[K     |████▊                           | 245 kB 16.2 MB/s eta 0:00:01\r\u001b[K     |█████                           | 256 kB 16.2 MB/s eta 0:00:01\r\u001b[K     |█████▏                          | 266 kB 16.2 MB/s eta 0:00:01\r\u001b[K     |█████▍                          | 276 kB 16.2 MB/s eta 0:00:01\r\u001b[K     |█████▌                          | 286 kB 16.2 MB/s eta 0:00:01\r\u001b[K     |█████▊                          | 296 kB 16.2 MB/s eta 0:00:01\r\u001b[K     |██████                          | 307 kB 16.2 MB/s eta 0:00:01\r\u001b[K     |██████▏                         | 317 kB 16.2 MB/s eta 0:00:01\r\u001b[K     |██████▍                         | 327 kB 16.2 MB/s eta 0:00:01\r\u001b[K     |██████▌                         | 337 kB 16.2 MB/s eta 0:00:01\r\u001b[K     |██████▊                         | 348 kB 16.2 MB/s eta 0:00:01\r\u001b[K     |███████                         | 358 kB 16.2 MB/s eta 0:00:01\r\u001b[K     |███████▏                        | 368 kB 16.2 MB/s eta 0:00:01\r\u001b[K     |███████▎                        | 378 kB 16.2 MB/s eta 0:00:01\r\u001b[K     |███████▌                        | 389 kB 16.2 MB/s eta 0:00:01\r\u001b[K     |███████▊                        | 399 kB 16.2 MB/s eta 0:00:01\r\u001b[K     |████████                        | 409 kB 16.2 MB/s eta 0:00:01\r\u001b[K     |████████▏                       | 419 kB 16.2 MB/s eta 0:00:01\r\u001b[K     |████████▎                       | 430 kB 16.2 MB/s eta 0:00:01\r\u001b[K     |████████▌                       | 440 kB 16.2 MB/s eta 0:00:01\r\u001b[K     |████████▊                       | 450 kB 16.2 MB/s eta 0:00:01\r\u001b[K     |█████████                       | 460 kB 16.2 MB/s eta 0:00:01\r\u001b[K     |█████████▏                      | 471 kB 16.2 MB/s eta 0:00:01\r\u001b[K     |█████████▎                      | 481 kB 16.2 MB/s eta 0:00:01\r\u001b[K     |█████████▌                      | 491 kB 16.2 MB/s eta 0:00:01\r\u001b[K     |█████████▊                      | 501 kB 16.2 MB/s eta 0:00:01\r\u001b[K     |██████████                      | 512 kB 16.2 MB/s eta 0:00:01\r\u001b[K     |██████████                      | 522 kB 16.2 MB/s eta 0:00:01\r\u001b[K     |██████████▎                     | 532 kB 16.2 MB/s eta 0:00:01\r\u001b[K     |██████████▌                     | 542 kB 16.2 MB/s eta 0:00:01\r\u001b[K     |██████████▊                     | 552 kB 16.2 MB/s eta 0:00:01\r\u001b[K     |███████████                     | 563 kB 16.2 MB/s eta 0:00:01\r\u001b[K     |███████████                     | 573 kB 16.2 MB/s eta 0:00:01\r\u001b[K     |███████████▎                    | 583 kB 16.2 MB/s eta 0:00:01\r\u001b[K     |███████████▌                    | 593 kB 16.2 MB/s eta 0:00:01\r\u001b[K     |███████████▊                    | 604 kB 16.2 MB/s eta 0:00:01\r\u001b[K     |███████████▉                    | 614 kB 16.2 MB/s eta 0:00:01\r\u001b[K     |████████████                    | 624 kB 16.2 MB/s eta 0:00:01\r\u001b[K     |████████████▎                   | 634 kB 16.2 MB/s eta 0:00:01\r\u001b[K     |████████████▌                   | 645 kB 16.2 MB/s eta 0:00:01\r\u001b[K     |████████████▊                   | 655 kB 16.2 MB/s eta 0:00:01\r\u001b[K     |████████████▉                   | 665 kB 16.2 MB/s eta 0:00:01\r\u001b[K     |█████████████                   | 675 kB 16.2 MB/s eta 0:00:01\r\u001b[K     |█████████████▎                  | 686 kB 16.2 MB/s eta 0:00:01\r\u001b[K     |█████████████▌                  | 696 kB 16.2 MB/s eta 0:00:01\r\u001b[K     |█████████████▊                  | 706 kB 16.2 MB/s eta 0:00:01\r\u001b[K     |█████████████▉                  | 716 kB 16.2 MB/s eta 0:00:01\r\u001b[K     |██████████████                  | 727 kB 16.2 MB/s eta 0:00:01\r\u001b[K     |██████████████▎                 | 737 kB 16.2 MB/s eta 0:00:01\r\u001b[K     |██████████████▌                 | 747 kB 16.2 MB/s eta 0:00:01\r\u001b[K     |██████████████▋                 | 757 kB 16.2 MB/s eta 0:00:01\r\u001b[K     |██████████████▉                 | 768 kB 16.2 MB/s eta 0:00:01\r\u001b[K     |███████████████                 | 778 kB 16.2 MB/s eta 0:00:01\r\u001b[K     |███████████████▎                | 788 kB 16.2 MB/s eta 0:00:01\r\u001b[K     |███████████████▌                | 798 kB 16.2 MB/s eta 0:00:01\r\u001b[K     |███████████████▋                | 808 kB 16.2 MB/s eta 0:00:01\r\u001b[K     |███████████████▉                | 819 kB 16.2 MB/s eta 0:00:01\r\u001b[K     |████████████████                | 829 kB 16.2 MB/s eta 0:00:01\r\u001b[K     |████████████████▎               | 839 kB 16.2 MB/s eta 0:00:01\r\u001b[K     |████████████████▍               | 849 kB 16.2 MB/s eta 0:00:01\r\u001b[K     |████████████████▋               | 860 kB 16.2 MB/s eta 0:00:01\r\u001b[K     |████████████████▉               | 870 kB 16.2 MB/s eta 0:00:01\r\u001b[K     |█████████████████               | 880 kB 16.2 MB/s eta 0:00:01\r\u001b[K     |█████████████████▎              | 890 kB 16.2 MB/s eta 0:00:01\r\u001b[K     |█████████████████▍              | 901 kB 16.2 MB/s eta 0:00:01\r\u001b[K     |█████████████████▋              | 911 kB 16.2 MB/s eta 0:00:01\r\u001b[K     |█████████████████▉              | 921 kB 16.2 MB/s eta 0:00:01\r\u001b[K     |██████████████████              | 931 kB 16.2 MB/s eta 0:00:01\r\u001b[K     |██████████████████▎             | 942 kB 16.2 MB/s eta 0:00:01\r\u001b[K     |██████████████████▍             | 952 kB 16.2 MB/s eta 0:00:01\r\u001b[K     |██████████████████▋             | 962 kB 16.2 MB/s eta 0:00:01\r\u001b[K     |██████████████████▉             | 972 kB 16.2 MB/s eta 0:00:01\r\u001b[K     |███████████████████             | 983 kB 16.2 MB/s eta 0:00:01\r\u001b[K     |███████████████████▏            | 993 kB 16.2 MB/s eta 0:00:01\r\u001b[K     |███████████████████▍            | 1.0 MB 16.2 MB/s eta 0:00:01\r\u001b[K     |███████████████████▋            | 1.0 MB 16.2 MB/s eta 0:00:01\r\u001b[K     |███████████████████▉            | 1.0 MB 16.2 MB/s eta 0:00:01\r\u001b[K     |████████████████████            | 1.0 MB 16.2 MB/s eta 0:00:01\r\u001b[K     |████████████████████▏           | 1.0 MB 16.2 MB/s eta 0:00:01\r\u001b[K     |████████████████████▍           | 1.1 MB 16.2 MB/s eta 0:00:01\r\u001b[K     |████████████████████▋           | 1.1 MB 16.2 MB/s eta 0:00:01\r\u001b[K     |████████████████████▉           | 1.1 MB 16.2 MB/s eta 0:00:01\r\u001b[K     |█████████████████████           | 1.1 MB 16.2 MB/s eta 0:00:01\r\u001b[K     |█████████████████████▏          | 1.1 MB 16.2 MB/s eta 0:00:01\r\u001b[K     |█████████████████████▍          | 1.1 MB 16.2 MB/s eta 0:00:01\r\u001b[K     |█████████████████████▋          | 1.1 MB 16.2 MB/s eta 0:00:01\r\u001b[K     |█████████████████████▉          | 1.1 MB 16.2 MB/s eta 0:00:01\r\u001b[K     |██████████████████████          | 1.1 MB 16.2 MB/s eta 0:00:01\r\u001b[K     |██████████████████████▏         | 1.1 MB 16.2 MB/s eta 0:00:01\r\u001b[K     |██████████████████████▍         | 1.2 MB 16.2 MB/s eta 0:00:01\r\u001b[K     |██████████████████████▋         | 1.2 MB 16.2 MB/s eta 0:00:01\r\u001b[K     |██████████████████████▉         | 1.2 MB 16.2 MB/s eta 0:00:01\r\u001b[K     |███████████████████████         | 1.2 MB 16.2 MB/s eta 0:00:01\r\u001b[K     |███████████████████████▏        | 1.2 MB 16.2 MB/s eta 0:00:01\r\u001b[K     |███████████████████████▍        | 1.2 MB 16.2 MB/s eta 0:00:01\r\u001b[K     |███████████████████████▋        | 1.2 MB 16.2 MB/s eta 0:00:01\r\u001b[K     |███████████████████████▊        | 1.2 MB 16.2 MB/s eta 0:00:01\r\u001b[K     |████████████████████████        | 1.2 MB 16.2 MB/s eta 0:00:01\r\u001b[K     |████████████████████████▏       | 1.2 MB 16.2 MB/s eta 0:00:01\r\u001b[K     |████████████████████████▍       | 1.3 MB 16.2 MB/s eta 0:00:01\r\u001b[K     |████████████████████████▋       | 1.3 MB 16.2 MB/s eta 0:00:01\r\u001b[K     |████████████████████████▊       | 1.3 MB 16.2 MB/s eta 0:00:01\r\u001b[K     |█████████████████████████       | 1.3 MB 16.2 MB/s eta 0:00:01\r\u001b[K     |█████████████████████████▏      | 1.3 MB 16.2 MB/s eta 0:00:01\r\u001b[K     |█████████████████████████▍      | 1.3 MB 16.2 MB/s eta 0:00:01\r\u001b[K     |█████████████████████████▌      | 1.3 MB 16.2 MB/s eta 0:00:01\r\u001b[K     |█████████████████████████▊      | 1.3 MB 16.2 MB/s eta 0:00:01\r\u001b[K     |██████████████████████████      | 1.3 MB 16.2 MB/s eta 0:00:01\r\u001b[K     |██████████████████████████▏     | 1.4 MB 16.2 MB/s eta 0:00:01\r\u001b[K     |██████████████████████████▍     | 1.4 MB 16.2 MB/s eta 0:00:01\r\u001b[K     |██████████████████████████▌     | 1.4 MB 16.2 MB/s eta 0:00:01\r\u001b[K     |██████████████████████████▊     | 1.4 MB 16.2 MB/s eta 0:00:01\r\u001b[K     |███████████████████████████     | 1.4 MB 16.2 MB/s eta 0:00:01\r\u001b[K     |███████████████████████████▏    | 1.4 MB 16.2 MB/s eta 0:00:01\r\u001b[K     |███████████████████████████▍    | 1.4 MB 16.2 MB/s eta 0:00:01\r\u001b[K     |███████████████████████████▌    | 1.4 MB 16.2 MB/s eta 0:00:01\r\u001b[K     |███████████████████████████▊    | 1.4 MB 16.2 MB/s eta 0:00:01\r\u001b[K     |████████████████████████████    | 1.4 MB 16.2 MB/s eta 0:00:01\r\u001b[K     |████████████████████████████▏   | 1.5 MB 16.2 MB/s eta 0:00:01\r\u001b[K     |████████████████████████████▎   | 1.5 MB 16.2 MB/s eta 0:00:01\r\u001b[K     |████████████████████████████▌   | 1.5 MB 16.2 MB/s eta 0:00:01\r\u001b[K     |████████████████████████████▊   | 1.5 MB 16.2 MB/s eta 0:00:01\r\u001b[K     |█████████████████████████████   | 1.5 MB 16.2 MB/s eta 0:00:01\r\u001b[K     |█████████████████████████████▏  | 1.5 MB 16.2 MB/s eta 0:00:01\r\u001b[K     |█████████████████████████████▎  | 1.5 MB 16.2 MB/s eta 0:00:01\r\u001b[K     |█████████████████████████████▌  | 1.5 MB 16.2 MB/s eta 0:00:01\r\u001b[K     |█████████████████████████████▊  | 1.5 MB 16.2 MB/s eta 0:00:01\r\u001b[K     |██████████████████████████████  | 1.5 MB 16.2 MB/s eta 0:00:01\r\u001b[K     |██████████████████████████████▏ | 1.6 MB 16.2 MB/s eta 0:00:01\r\u001b[K     |██████████████████████████████▎ | 1.6 MB 16.2 MB/s eta 0:00:01\r\u001b[K     |██████████████████████████████▌ | 1.6 MB 16.2 MB/s eta 0:00:01\r\u001b[K     |██████████████████████████████▊ | 1.6 MB 16.2 MB/s eta 0:00:01\r\u001b[K     |███████████████████████████████ | 1.6 MB 16.2 MB/s eta 0:00:01\r\u001b[K     |███████████████████████████████ | 1.6 MB 16.2 MB/s eta 0:00:01\r\u001b[K     |███████████████████████████████▎| 1.6 MB 16.2 MB/s eta 0:00:01\r\u001b[K     |███████████████████████████████▌| 1.6 MB 16.2 MB/s eta 0:00:01\r\u001b[K     |███████████████████████████████▊| 1.6 MB 16.2 MB/s eta 0:00:01\r\u001b[K     |████████████████████████████████| 1.6 MB 16.2 MB/s eta 0:00:01\r\u001b[K     |████████████████████████████████| 1.7 MB 16.2 MB/s \n",
            "\u001b[?25h  Installing build dependencies ... \u001b[?25l\u001b[?25hdone\n",
            "  Getting requirements to build wheel ... \u001b[?25l\u001b[?25hdone\n",
            "  Installing backend dependencies ... \u001b[?25l\u001b[?25hdone\n",
            "    Preparing wheel metadata ... \u001b[?25l\u001b[?25hdone\n",
            "Requirement already satisfied: numexpr in /usr/local/lib/python3.7/dist-packages (from pyLDAvis) (2.7.3)\n",
            "Requirement already satisfied: setuptools in /usr/local/lib/python3.7/dist-packages (from pyLDAvis) (57.4.0)\n",
            "Collecting funcy\n",
            "  Downloading funcy-1.16-py2.py3-none-any.whl (32 kB)\n",
            "Requirement already satisfied: future in /usr/local/lib/python3.7/dist-packages (from pyLDAvis) (0.16.0)\n",
            "Requirement already satisfied: sklearn in /usr/local/lib/python3.7/dist-packages (from pyLDAvis) (0.0)\n",
            "Requirement already satisfied: joblib in /usr/local/lib/python3.7/dist-packages (from pyLDAvis) (1.0.1)\n",
            "Requirement already satisfied: scikit-learn in /usr/local/lib/python3.7/dist-packages (from pyLDAvis) (0.22.2.post1)\n",
            "Collecting numpy>=1.20.0\n",
            "  Downloading numpy-1.21.3-cp37-cp37m-manylinux_2_12_x86_64.manylinux2010_x86_64.whl (15.7 MB)\n",
            "\u001b[K     |████████████████████████████████| 15.7 MB 60 kB/s \n",
            "\u001b[?25hRequirement already satisfied: gensim in /usr/local/lib/python3.7/dist-packages (from pyLDAvis) (3.6.0)\n",
            "Requirement already satisfied: scipy in /usr/local/lib/python3.7/dist-packages (from pyLDAvis) (1.4.1)\n",
            "Collecting pandas>=1.2.0\n",
            "  Downloading pandas-1.3.4-cp37-cp37m-manylinux_2_17_x86_64.manylinux2014_x86_64.whl (11.3 MB)\n",
            "\u001b[K     |████████████████████████████████| 11.3 MB 20.2 MB/s \n",
            "\u001b[?25hRequirement already satisfied: jinja2 in /usr/local/lib/python3.7/dist-packages (from pyLDAvis) (2.11.3)\n",
            "Requirement already satisfied: pytz>=2017.3 in /usr/local/lib/python3.7/dist-packages (from pandas>=1.2.0->pyLDAvis) (2018.9)\n",
            "Requirement already satisfied: python-dateutil>=2.7.3 in /usr/local/lib/python3.7/dist-packages (from pandas>=1.2.0->pyLDAvis) (2.8.2)\n",
            "Requirement already satisfied: six>=1.5 in /usr/local/lib/python3.7/dist-packages (from python-dateutil>=2.7.3->pandas>=1.2.0->pyLDAvis) (1.15.0)\n",
            "Requirement already satisfied: smart-open>=1.2.1 in /usr/local/lib/python3.7/dist-packages (from gensim->pyLDAvis) (5.2.1)\n",
            "Requirement already satisfied: MarkupSafe>=0.23 in /usr/local/lib/python3.7/dist-packages (from jinja2->pyLDAvis) (2.0.1)\n",
            "Building wheels for collected packages: pyLDAvis\n",
            "  Building wheel for pyLDAvis (PEP 517) ... \u001b[?25l\u001b[?25hdone\n",
            "  Created wheel for pyLDAvis: filename=pyLDAvis-3.3.1-py2.py3-none-any.whl size=136897 sha256=dd9eb276feb3763f12742b7b211b4aa8d121a4a211bfaf6ef59d5d2cb1c23900\n",
            "  Stored in directory: /root/.cache/pip/wheels/c9/21/f6/17bcf2667e8a68532ba2fbf6d5c72fdf4c7f7d9abfa4852d2f\n",
            "Successfully built pyLDAvis\n",
            "Installing collected packages: numpy, pandas, funcy, pyLDAvis\n",
            "  Attempting uninstall: numpy\n",
            "    Found existing installation: numpy 1.19.5\n",
            "    Uninstalling numpy-1.19.5:\n",
            "      Successfully uninstalled numpy-1.19.5\n",
            "  Attempting uninstall: pandas\n",
            "    Found existing installation: pandas 1.1.5\n",
            "    Uninstalling pandas-1.1.5:\n",
            "      Successfully uninstalled pandas-1.1.5\n",
            "\u001b[31mERROR: pip's dependency resolver does not currently take into account all the packages that are installed. This behaviour is the source of the following dependency conflicts.\n",
            "tensorflow 2.6.0 requires numpy~=1.19.2, but you have numpy 1.21.3 which is incompatible.\n",
            "google-colab 1.0.0 requires pandas~=1.1.0; python_version >= \"3.0\", but you have pandas 1.3.4 which is incompatible.\n",
            "datascience 0.10.6 requires folium==0.2.1, but you have folium 0.8.3 which is incompatible.\n",
            "albumentations 0.1.12 requires imgaug<0.2.7,>=0.2.5, but you have imgaug 0.2.9 which is incompatible.\u001b[0m\n",
            "Successfully installed funcy-1.16 numpy-1.21.3 pandas-1.3.4 pyLDAvis-3.3.1\n"
          ]
        },
        {
          "output_type": "display_data",
          "data": {
            "application/vnd.colab-display-data+json": {
              "pip_warning": {
                "packages": [
                  "numpy",
                  "pandas"
                ]
              }
            }
          },
          "metadata": {}
        }
      ]
    },
    {
      "cell_type": "code",
      "metadata": {
        "colab": {
          "base_uri": "https://localhost:8080/",
          "height": 1000
        },
        "id": "RIY3wOgVs-ud",
        "outputId": "5fc33f06-4b78-4831-e489-a35a8c217886"
      },
      "source": [
        "!pip uninstall numpy\n",
        "!pip uninstall pandas\n",
        "\n",
        "!pip install --user numpy\n",
        "!pip install --user  pandas"
      ],
      "execution_count": null,
      "outputs": [
        {
          "name": "stdout",
          "output_type": "stream",
          "text": [
            "Found existing installation: numpy 1.21.3\n",
            "Uninstalling numpy-1.21.3:\n",
            "  Would remove:\n",
            "    /usr/local/bin/f2py\n",
            "    /usr/local/bin/f2py3\n",
            "    /usr/local/bin/f2py3.7\n",
            "    /usr/local/lib/python3.7/dist-packages/numpy-1.21.3.dist-info/*\n",
            "    /usr/local/lib/python3.7/dist-packages/numpy.libs/libgfortran-2e0d59d6.so.5.0.0\n",
            "    /usr/local/lib/python3.7/dist-packages/numpy.libs/libopenblasp-r0-2d23e62b.3.17.so\n",
            "    /usr/local/lib/python3.7/dist-packages/numpy.libs/libquadmath-2d0c479f.so.0.0.0\n",
            "    /usr/local/lib/python3.7/dist-packages/numpy/*\n",
            "Proceed (y/n)? y\n",
            "  Successfully uninstalled numpy-1.21.3\n",
            "Found existing installation: pandas 1.3.4\n",
            "Uninstalling pandas-1.3.4:\n",
            "  Would remove:\n",
            "    /usr/local/lib/python3.7/dist-packages/pandas-1.3.4.dist-info/*\n",
            "    /usr/local/lib/python3.7/dist-packages/pandas/*\n",
            "Proceed (y/n)? y\n",
            "  Successfully uninstalled pandas-1.3.4\n",
            "Collecting numpy\n",
            "  Using cached numpy-1.21.3-cp37-cp37m-manylinux_2_12_x86_64.manylinux2010_x86_64.whl (15.7 MB)\n",
            "Installing collected packages: numpy\n",
            "\u001b[33m  WARNING: The scripts f2py, f2py3 and f2py3.7 are installed in '/root/.local/bin' which is not on PATH.\n",
            "  Consider adding this directory to PATH or, if you prefer to suppress this warning, use --no-warn-script-location.\u001b[0m\n",
            "\u001b[31mERROR: pip's dependency resolver does not currently take into account all the packages that are installed. This behaviour is the source of the following dependency conflicts.\n",
            "xarray 0.18.2 requires pandas>=1.0, which is not installed.\n",
            "statsmodels 0.10.2 requires pandas>=0.19, which is not installed.\n",
            "sklearn-pandas 1.8.0 requires pandas>=0.11.0, which is not installed.\n",
            "seaborn 0.11.2 requires pandas>=0.23, which is not installed.\n",
            "pymc3 3.11.4 requires pandas>=0.24.0, which is not installed.\n",
            "pyldavis 3.3.1 requires pandas>=1.2.0, which is not installed.\n",
            "plotnine 0.6.0 requires pandas>=0.25.0, which is not installed.\n",
            "mlxtend 0.14.0 requires pandas>=0.17.1, which is not installed.\n",
            "mizani 0.6.0 requires pandas>=0.25.0, which is not installed.\n",
            "holoviews 1.14.6 requires pandas>=0.20.0, which is not installed.\n",
            "fix-yahoo-finance 0.0.22 requires pandas, which is not installed.\n",
            "fbprophet 0.7.1 requires pandas>=1.0.4, which is not installed.\n",
            "fastai 1.0.61 requires pandas, which is not installed.\n",
            "cufflinks 0.17.3 requires pandas>=0.19.2, which is not installed.\n",
            "cmdstanpy 0.9.5 requires pandas, which is not installed.\n",
            "arviz 0.11.4 requires pandas>=0.23, which is not installed.\n",
            "altair 4.1.0 requires pandas>=0.18, which is not installed.\n",
            "tensorflow 2.6.0 requires numpy~=1.19.2, but you have numpy 1.21.3 which is incompatible.\n",
            "datascience 0.10.6 requires folium==0.2.1, but you have folium 0.8.3 which is incompatible.\n",
            "albumentations 0.1.12 requires imgaug<0.2.7,>=0.2.5, but you have imgaug 0.2.9 which is incompatible.\u001b[0m\n",
            "Successfully installed numpy-1.21.3\n"
          ]
        },
        {
          "data": {
            "application/vnd.colab-display-data+json": {
              "pip_warning": {
                "packages": [
                  "numpy"
                ]
              }
            }
          },
          "metadata": {},
          "output_type": "display_data"
        },
        {
          "name": "stdout",
          "output_type": "stream",
          "text": [
            "Collecting pandas\n",
            "  Using cached pandas-1.3.4-cp37-cp37m-manylinux_2_17_x86_64.manylinux2014_x86_64.whl (11.3 MB)\n",
            "Requirement already satisfied: pytz>=2017.3 in /usr/local/lib/python3.7/dist-packages (from pandas) (2018.9)\n",
            "Requirement already satisfied: numpy>=1.17.3 in /root/.local/lib/python3.7/site-packages (from pandas) (1.21.3)\n",
            "Requirement already satisfied: python-dateutil>=2.7.3 in /usr/local/lib/python3.7/dist-packages (from pandas) (2.8.2)\n",
            "Requirement already satisfied: six>=1.5 in /usr/local/lib/python3.7/dist-packages (from python-dateutil>=2.7.3->pandas) (1.15.0)\n",
            "Installing collected packages: pandas\n",
            "\u001b[31mERROR: pip's dependency resolver does not currently take into account all the packages that are installed. This behaviour is the source of the following dependency conflicts.\n",
            "google-colab 1.0.0 requires pandas~=1.1.0; python_version >= \"3.0\", but you have pandas 1.3.4 which is incompatible.\u001b[0m\n",
            "Successfully installed pandas-1.3.4\n"
          ]
        },
        {
          "data": {
            "application/vnd.colab-display-data+json": {
              "pip_warning": {
                "packages": [
                  "pandas"
                ]
              }
            }
          },
          "metadata": {},
          "output_type": "display_data"
        }
      ]
    },
    {
      "cell_type": "markdown",
      "metadata": {
        "id": "-gAbp044Zlj_"
      },
      "source": [
        "Делаем доступ к Googl Drive"
      ]
    },
    {
      "cell_type": "code",
      "metadata": {
        "colab": {
          "base_uri": "https://localhost:8080/"
        },
        "id": "wqFGM15WNUia",
        "outputId": "542cac53-1ea9-4c26-93f5-7bb7b39df616"
      },
      "source": [
        "from google.colab import drive\n",
        "drive.mount('/gdrive')"
      ],
      "execution_count": 2,
      "outputs": [
        {
          "output_type": "stream",
          "name": "stdout",
          "text": [
            "Mounted at /gdrive\n"
          ]
        }
      ]
    },
    {
      "cell_type": "code",
      "metadata": {
        "id": "ctZ-EA4UMIGh"
      },
      "source": [
        "import pandas as pd"
      ],
      "execution_count": 5,
      "outputs": []
    },
    {
      "cell_type": "code",
      "metadata": {
        "id": "J6On3Qpyr5oo"
      },
      "source": [
        "path = '/gdrive/MyDrive/Colab Notebooks/2-Lesson/'"
      ],
      "execution_count": 8,
      "outputs": []
    },
    {
      "cell_type": "code",
      "metadata": {
        "colab": {
          "base_uri": "https://localhost:8080/",
          "height": 158
        },
        "id": "gycmprucMIGi",
        "outputId": "8d04c829-2140-4bec-d733-5675f6fbaa49"
      },
      "source": [
        "news = pd.read_csv(path+\"articles.csv\")\n",
        "print(news.shape)\n",
        "news.head(3)"
      ],
      "execution_count": 9,
      "outputs": [
        {
          "output_type": "stream",
          "name": "stdout",
          "text": [
            "(27000, 2)\n"
          ]
        },
        {
          "output_type": "execute_result",
          "data": {
            "text/html": [
              "<div>\n",
              "<style scoped>\n",
              "    .dataframe tbody tr th:only-of-type {\n",
              "        vertical-align: middle;\n",
              "    }\n",
              "\n",
              "    .dataframe tbody tr th {\n",
              "        vertical-align: top;\n",
              "    }\n",
              "\n",
              "    .dataframe thead th {\n",
              "        text-align: right;\n",
              "    }\n",
              "</style>\n",
              "<table border=\"1\" class=\"dataframe\">\n",
              "  <thead>\n",
              "    <tr style=\"text-align: right;\">\n",
              "      <th></th>\n",
              "      <th>doc_id</th>\n",
              "      <th>title</th>\n",
              "    </tr>\n",
              "  </thead>\n",
              "  <tbody>\n",
              "    <tr>\n",
              "      <th>0</th>\n",
              "      <td>6</td>\n",
              "      <td>Заместитель председателяnправительства РФnСерг...</td>\n",
              "    </tr>\n",
              "    <tr>\n",
              "      <th>1</th>\n",
              "      <td>4896</td>\n",
              "      <td>Матч 1/16 финала Кубка России по футболу был п...</td>\n",
              "    </tr>\n",
              "    <tr>\n",
              "      <th>2</th>\n",
              "      <td>4897</td>\n",
              "      <td>Форвард «Авангарда» Томаш Заборский прокоммент...</td>\n",
              "    </tr>\n",
              "  </tbody>\n",
              "</table>\n",
              "</div>"
            ],
            "text/plain": [
              "   doc_id                                              title\n",
              "0       6  Заместитель председателяnправительства РФnСерг...\n",
              "1    4896  Матч 1/16 финала Кубка России по футболу был п...\n",
              "2    4897  Форвард «Авангарда» Томаш Заборский прокоммент..."
            ]
          },
          "metadata": {},
          "execution_count": 9
        }
      ]
    },
    {
      "cell_type": "markdown",
      "metadata": {
        "id": "H-eNWlDnMIGl"
      },
      "source": [
        "Загрузим пользователей и списки последних прочитанных новостей"
      ]
    },
    {
      "cell_type": "code",
      "metadata": {
        "colab": {
          "base_uri": "https://localhost:8080/",
          "height": 142
        },
        "id": "rIXeUk4iMIGl",
        "outputId": "d1fe6451-1030-413a-9213-b44c7f4c535a"
      },
      "source": [
        "users = pd.read_csv(path+\"users_articles.csv\")\n",
        "users.head(3)"
      ],
      "execution_count": 10,
      "outputs": [
        {
          "output_type": "execute_result",
          "data": {
            "text/html": [
              "<div>\n",
              "<style scoped>\n",
              "    .dataframe tbody tr th:only-of-type {\n",
              "        vertical-align: middle;\n",
              "    }\n",
              "\n",
              "    .dataframe tbody tr th {\n",
              "        vertical-align: top;\n",
              "    }\n",
              "\n",
              "    .dataframe thead th {\n",
              "        text-align: right;\n",
              "    }\n",
              "</style>\n",
              "<table border=\"1\" class=\"dataframe\">\n",
              "  <thead>\n",
              "    <tr style=\"text-align: right;\">\n",
              "      <th></th>\n",
              "      <th>uid</th>\n",
              "      <th>articles</th>\n",
              "    </tr>\n",
              "  </thead>\n",
              "  <tbody>\n",
              "    <tr>\n",
              "      <th>0</th>\n",
              "      <td>u105138</td>\n",
              "      <td>[293672, 293328, 293001, 293622, 293126, 1852]</td>\n",
              "    </tr>\n",
              "    <tr>\n",
              "      <th>1</th>\n",
              "      <td>u108690</td>\n",
              "      <td>[3405, 1739, 2972, 1158, 1599, 322665]</td>\n",
              "    </tr>\n",
              "    <tr>\n",
              "      <th>2</th>\n",
              "      <td>u108339</td>\n",
              "      <td>[1845, 2009, 2356, 1424, 2939, 323389]</td>\n",
              "    </tr>\n",
              "  </tbody>\n",
              "</table>\n",
              "</div>"
            ],
            "text/plain": [
              "       uid                                        articles\n",
              "0  u105138  [293672, 293328, 293001, 293622, 293126, 1852]\n",
              "1  u108690          [3405, 1739, 2972, 1158, 1599, 322665]\n",
              "2  u108339          [1845, 2009, 2356, 1424, 2939, 323389]"
            ]
          },
          "metadata": {},
          "execution_count": 10
        }
      ]
    },
    {
      "cell_type": "markdown",
      "metadata": {
        "id": "9kFAT-qMMIGm"
      },
      "source": [
        "Итак, нам нужно получить векторные представления пользователей на основе прочитанным ими новостей и самих новостей"
      ]
    },
    {
      "cell_type": "markdown",
      "metadata": {
        "id": "ra5jYUNoMIGm"
      },
      "source": [
        "### 1. Получаем векторные представления новостей"
      ]
    },
    {
      "cell_type": "code",
      "metadata": {
        "id": "LBjgEo9DMIGm"
      },
      "source": [
        "#from gensim.test.utils import common_texts\n",
        "# https://webdevblog.ru/gensim-rukovodstvo-dlya-nachinajushhih/\n",
        "from gensim.corpora.dictionary import Dictionary"
      ],
      "execution_count": 11,
      "outputs": []
    },
    {
      "cell_type": "code",
      "metadata": {
        "id": "pXp8Q2WNMIGn"
      },
      "source": [
        "#предобработка текстов\n",
        "import re\n",
        "import numpy as np\n",
        "from nltk.corpus import stopwords\n",
        "#from nltk.tokenize import word_tokenize\n",
        "\n",
        "from razdel import tokenize # https://github.com/natasha/razdel\n",
        "#!pip install razdel\n",
        "\n",
        "import pymorphy2  # pip install pymorphy2"
      ],
      "execution_count": 16,
      "outputs": []
    },
    {
      "cell_type": "code",
      "metadata": {
        "colab": {
          "base_uri": "https://localhost:8080/"
        },
        "id": "ea5xiOOMOgla",
        "outputId": "7727d9f5-f95a-483a-c5e9-90f61d182332"
      },
      "source": [
        "import nltk\n",
        "nltk.download('stopwords')"
      ],
      "execution_count": 17,
      "outputs": [
        {
          "output_type": "stream",
          "name": "stdout",
          "text": [
            "[nltk_data] Downloading package stopwords to /root/nltk_data...\n",
            "[nltk_data]   Unzipping corpora/stopwords.zip.\n"
          ]
        },
        {
          "output_type": "execute_result",
          "data": {
            "text/plain": [
              "True"
            ]
          },
          "metadata": {},
          "execution_count": 17
        }
      ]
    },
    {
      "cell_type": "code",
      "metadata": {
        "id": "n4UkLRydMIGn"
      },
      "source": [
        "stopword_ru = stopwords.words('russian')\n",
        "len(stopword_ru)\n",
        "\n",
        "morph = pymorphy2.MorphAnalyzer(  )"
      ],
      "execution_count": 18,
      "outputs": []
    },
    {
      "cell_type": "code",
      "metadata": {
        "colab": {
          "base_uri": "https://localhost:8080/"
        },
        "id": "JvD3j5zYEPZS",
        "outputId": "5e5b762e-355d-4a7e-a5f4-1cdc34a5da6c"
      },
      "source": [
        "len(stopword_ru)"
      ],
      "execution_count": 19,
      "outputs": [
        {
          "output_type": "execute_result",
          "data": {
            "text/plain": [
              "151"
            ]
          },
          "metadata": {},
          "execution_count": 19
        }
      ]
    },
    {
      "cell_type": "code",
      "metadata": {
        "colab": {
          "base_uri": "https://localhost:8080/"
        },
        "id": "gRCY_H-LMIGo",
        "outputId": "b8978a4f-aa2c-4a74-80e4-68c9be2e3c01"
      },
      "source": [
        "with open(path+'stopwords.txt') as f:\n",
        "    additional_stopwords = [w.strip() for w in f.readlines() if w]\n",
        "stopword_ru += additional_stopwords\n",
        "len(stopword_ru)"
      ],
      "execution_count": 20,
      "outputs": [
        {
          "output_type": "execute_result",
          "data": {
            "text/plain": [
              "776"
            ]
          },
          "metadata": {},
          "execution_count": 20
        }
      ]
    },
    {
      "cell_type": "code",
      "metadata": {
        "colab": {
          "base_uri": "https://localhost:8080/",
          "height": 35
        },
        "id": "5zG-fPb7Et2-",
        "outputId": "ef3699e7-fb4b-442f-fce9-2523d2cfa5b1"
      },
      "source": [
        "stopword_ru[0]"
      ],
      "execution_count": 21,
      "outputs": [
        {
          "output_type": "execute_result",
          "data": {
            "application/vnd.google.colaboratory.intrinsic+json": {
              "type": "string"
            },
            "text/plain": [
              "'и'"
            ]
          },
          "metadata": {},
          "execution_count": 21
        }
      ]
    },
    {
      "cell_type": "code",
      "metadata": {
        "id": "DiAt1i81MIGp"
      },
      "source": [
        "def clean_text(text):\n",
        "    '''\n",
        "    очистка текста\n",
        "    \n",
        "    на выходе очищеный текст\n",
        "    \n",
        "    '''\n",
        "    if not isinstance(text, str):\n",
        "        text = str(text)\n",
        "    \n",
        "    text = text.lower()\n",
        "    text = text.strip('\\n').strip('\\r').strip('\\t')\n",
        "    text = re.sub(\"-\\s\\r\\n\\|-\\s\\r\\n|\\r\\n\", '', str(text))\n",
        "\n",
        "    text = re.sub(\"[0-9]|[-—.,:;_%©«»?*!@#№$^•·&()]|[+=]|[[]|[]]|[/]|\", '', text)\n",
        "    text = re.sub(r\"\\r\\n\\t|\\n|\\\\s|\\r\\t|\\\\n\", ' ', text)\n",
        "    text = re.sub(r'[\\xad]|[\\s+]', ' ', text.strip())\n",
        "    text = re.sub(\"n\", ' ', text)\n",
        "\n",
        "    \n",
        "    #tokens = list(tokenize(text))\n",
        "    #words = [_.text for _ in tokens]\n",
        "    #words = [w for w in words if w not in stopword_ru]\n",
        "    \n",
        "    #return \" \".join(words)\n",
        "    return text\n",
        "\n",
        "cache = {}\n",
        "\n",
        "def lemmatization(text):\n",
        "    '''\n",
        "    лемматизация\n",
        "        [0] если зашел тип не `str` делаем его `str`\n",
        "        [1] токенизация предложения через razdel\n",
        "        [2] проверка есть ли в начале слова '-'\n",
        "        [3] проверка токена с одного символа\n",
        "        [4] проверка есть ли данное слово в кэше\n",
        "        [5] лемматизация слова\n",
        "        [6] проверка на стоп-слова\n",
        "\n",
        "    на выходе лист отлемматизированых токенов\n",
        "    '''\n",
        "\n",
        "    # [0]\n",
        "    if not isinstance(text, str):\n",
        "        text = str(text)\n",
        "    \n",
        "    # [1]\n",
        "    tokens = list(tokenize(text))\n",
        "    #print(tokens)\n",
        "    words = [_.text for _ in tokens]\n",
        "\n",
        "    words_lem = []\n",
        "    for w in words:\n",
        "        if w[0] == '-': # [2]\n",
        "            w = w[1:]\n",
        "        if len(w)>1: # [3]\n",
        "            if w in cache: # [4]\n",
        "                words_lem.append(cache[w])\n",
        "                #print(temp_cach)\n",
        "            else: # [5]\n",
        "                temp_cach = cache[w] = morph.parse(w)[0].normal_form\n",
        "                words_lem.append(temp_cach)\n",
        "                #print(w,' : ',temp_cach)\n",
        "    \n",
        "    words_lem_without_stopwords=[i for i in words_lem if not i in stopword_ru] # [6]\n",
        "    #print(words_lem_without_stopwords)\n",
        "    return words_lem_without_stopwords"
      ],
      "execution_count": 22,
      "outputs": []
    },
    {
      "cell_type": "code",
      "metadata": {
        "colab": {
          "base_uri": "https://localhost:8080/"
        },
        "id": "90aWsoUley3W",
        "outputId": "08814624-3d96-4c29-c93b-54b67c333c6b"
      },
      "source": [
        "list(tokenize(news.iloc[0,1][:100],   ))"
      ],
      "execution_count": 27,
      "outputs": [
        {
          "output_type": "execute_result",
          "data": {
            "text/plain": [
              "[Substring(0, 11, 'Заместитель'),\n",
              " Substring(12, 24, 'председателя'),\n",
              " Substring(24, 25, 'n'),\n",
              " Substring(25, 38, 'правительства'),\n",
              " Substring(39, 41, 'РФ'),\n",
              " Substring(41, 42, 'n'),\n",
              " Substring(42, 48, 'Сергей'),\n",
              " Substring(48, 49, 'n'),\n",
              " Substring(49, 55, 'Иванов'),\n",
              " Substring(55, 56, 'n'),\n",
              " Substring(56, 62, 'избран'),\n",
              " Substring(63, 76, 'председателем'),\n",
              " Substring(77, 83, 'совета'),\n",
              " Substring(83, 84, 'n'),\n",
              " Substring(84, 87, 'ПБК'),\n",
              " Substring(88, 92, 'ЦСКА'),\n",
              " Substring(92, 93, 'n'),\n",
              " Substring(93, 94, '.'),\n",
              " Substring(95, 98, 'Как'),\n",
              " Substring(99, 100, 'с')]"
            ]
          },
          "metadata": {},
          "execution_count": 27
        }
      ]
    },
    {
      "cell_type": "code",
      "metadata": {
        "colab": {
          "base_uri": "https://localhost:8080/"
        },
        "id": "nZHNY8lqeA6a",
        "outputId": "fc558c97-a56e-4467-cae0-b2ab3f9369c2"
      },
      "source": [
        "norm_text = news.iloc[:2,1].apply(lambda x: clean_text(x), 1)\n",
        "norm_text"
      ],
      "execution_count": 39,
      "outputs": [
        {
          "output_type": "stream",
          "name": "stderr",
          "text": [
            "/usr/local/lib/python3.7/dist-packages/ipykernel_launcher.py:15: FutureWarning: Possible nested set at position 39\n",
            "  from ipykernel import kernelapp as app\n"
          ]
        },
        {
          "output_type": "execute_result",
          "data": {
            "text/plain": [
              "0    заместитель председателя правительства рф серг...\n",
              "1    матч  финала кубка россии по футболу был приос...\n",
              "Name: title, dtype: object"
            ]
          },
          "metadata": {},
          "execution_count": 39
        }
      ]
    },
    {
      "cell_type": "code",
      "metadata": {
        "colab": {
          "base_uri": "https://localhost:8080/"
        },
        "id": "VqgNGTEPGZnr",
        "outputId": "d2b6bed6-97fb-47a6-a070-ba69ff1ca007"
      },
      "source": [
        "lemmatization(norm_text[0])"
      ],
      "execution_count": 40,
      "outputs": [
        {
          "output_type": "execute_result",
          "data": {
            "text/plain": [
              "['заместитель',\n",
              " 'председатель',\n",
              " 'правительство',\n",
              " 'рф',\n",
              " 'сергей',\n",
              " 'иванов',\n",
              " 'избрать',\n",
              " 'председатель',\n",
              " 'совет',\n",
              " 'пбк',\n",
              " 'цска',\n",
              " 'прессслужба',\n",
              " 'армеец',\n",
              " 'решение',\n",
              " 'единогласно',\n",
              " 'принять',\n",
              " 'первый',\n",
              " 'заседание',\n",
              " 'совет',\n",
              " 'клуб',\n",
              " 'основной',\n",
              " 'функция',\n",
              " 'орган',\n",
              " 'обсуждение',\n",
              " 'текущий',\n",
              " 'состояние',\n",
              " 'планирование',\n",
              " 'утверждение',\n",
              " 'стратегия',\n",
              " 'развитие',\n",
              " 'клуб',\n",
              " 'близкий',\n",
              " 'перспектива',\n",
              " 'состав',\n",
              " 'совет',\n",
              " 'войти',\n",
              " 'георгий',\n",
              " 'полтавченко',\n",
              " 'полномочный',\n",
              " 'центральный',\n",
              " 'федеральный',\n",
              " 'округ',\n",
              " 'алексей',\n",
              " 'седов',\n",
              " 'генералполковник',\n",
              " 'начальник',\n",
              " 'служба',\n",
              " 'защита',\n",
              " 'конституционный',\n",
              " 'строй',\n",
              " 'борьба',\n",
              " 'терроризм',\n",
              " 'фсб',\n",
              " 'рф',\n",
              " 'александр',\n",
              " 'новак',\n",
              " 'заместитель',\n",
              " 'министр',\n",
              " 'финансы',\n",
              " 'рф',\n",
              " 'вячеслав',\n",
              " 'полтавец',\n",
              " 'заместитель',\n",
              " 'генеральный',\n",
              " 'директор',\n",
              " 'руководитель',\n",
              " 'блок',\n",
              " 'взаимодействие',\n",
              " 'орган',\n",
              " 'власть',\n",
              " 'социальный',\n",
              " 'корпоративный',\n",
              " 'политика',\n",
              " 'гмк',\n",
              " 'норильский',\n",
              " 'никель',\n",
              " 'леонид',\n",
              " 'исакович',\n",
              " 'генеральный',\n",
              " 'директор',\n",
              " 'ооо',\n",
              " 'ук',\n",
              " 'спортивный',\n",
              " 'проект',\n",
              " 'ольга',\n",
              " 'плешаков',\n",
              " 'генеральный',\n",
              " 'директор',\n",
              " 'трансаэро',\n",
              " 'александр',\n",
              " 'провоторов',\n",
              " 'генеральный',\n",
              " 'директор',\n",
              " 'оао',\n",
              " 'ростелеком',\n",
              " 'андрей',\n",
              " 'лопат',\n",
              " 'эксигрок',\n",
              " 'цска',\n",
              " 'чемпион',\n",
              " 'мир',\n",
              " 'трёхкратный',\n",
              " 'чемпион',\n",
              " 'европа',\n",
              " 'баскетбол',\n",
              " 'председатель',\n",
              " 'правление',\n",
              " 'банк',\n",
              " 'клиентский',\n",
              " 'андрей',\n",
              " 'ватутин',\n",
              " 'пбк',\n",
              " 'цска']"
            ]
          },
          "metadata": {},
          "execution_count": 40
        }
      ]
    },
    {
      "cell_type": "code",
      "metadata": {
        "colab": {
          "base_uri": "https://localhost:8080/"
        },
        "id": "KfixKuSMMIGq",
        "outputId": "a8c68247-050f-480e-f2da-fdf6ad701c4e"
      },
      "source": [
        "%%time\n",
        "#Запускаем очистку текста. Будет долго...\n",
        "news['title'] = news['title'].apply(lambda x: clean_text(x), 1)"
      ],
      "execution_count": 47,
      "outputs": [
        {
          "output_type": "stream",
          "name": "stdout",
          "text": [
            "CPU times: user 24.6 s, sys: 1.26 s, total: 25.9 s\n",
            "Wall time: 25.9 s\n"
          ]
        }
      ]
    },
    {
      "cell_type": "code",
      "metadata": {
        "colab": {
          "base_uri": "https://localhost:8080/"
        },
        "id": "A0m01zNlMIGs",
        "outputId": "4c6e5874-2ce2-47f5-9e66-332e48bb0aac"
      },
      "source": [
        "%%time\n",
        "#Запускаем лемматизацию текста. Будет очень долго...\n",
        "news['title'] = news['title'].apply(lambda x: lemmatization(x), 1)"
      ],
      "execution_count": 48,
      "outputs": [
        {
          "output_type": "stream",
          "name": "stdout",
          "text": [
            "CPU times: user 4min 12s, sys: 544 ms, total: 4min 12s\n",
            "Wall time: 4min 13s\n"
          ]
        }
      ]
    },
    {
      "cell_type": "markdown",
      "metadata": {
        "id": "OMqHynF9MIGu"
      },
      "source": [
        "А теперь в 3 строчки обучим нашу модель"
      ]
    },
    {
      "cell_type": "code",
      "metadata": {
        "id": "Yd6EZ8RbMIGu"
      },
      "source": [
        "#сформируем список наших текстов, разбив еще и на пробелы\n",
        "texts = [t for t in news['title'].values]\n",
        "\n",
        "# Create a corpus from a list of texts\n",
        "common_dictionary = Dictionary(texts)\n",
        "common_corpus = [common_dictionary.doc2bow(text) for text in texts]"
      ],
      "execution_count": 49,
      "outputs": []
    },
    {
      "cell_type": "markdown",
      "metadata": {
        "id": "hQfhjyspMIGv"
      },
      "source": [
        "Что такое common_dictionary и как он выглядит"
      ]
    },
    {
      "cell_type": "code",
      "metadata": {
        "colab": {
          "base_uri": "https://localhost:8080/",
          "height": 35
        },
        "id": "MBAN3PvWMIGv",
        "outputId": "7ce1a1d6-2b62-4004-dee7-b9367f156368"
      },
      "source": [
        "common_dictionary[0]"
      ],
      "execution_count": 62,
      "outputs": [
        {
          "output_type": "execute_result",
          "data": {
            "application/vnd.google.colaboratory.intrinsic+json": {
              "type": "string"
            },
            "text/plain": [
              "'александр'"
            ]
          },
          "metadata": {},
          "execution_count": 62
        }
      ]
    },
    {
      "cell_type": "code",
      "metadata": {
        "colab": {
          "base_uri": "https://localhost:8080/"
        },
        "id": "aJv_IlHdmUjt",
        "outputId": "1aed911d-86be-44f9-f321-eb987fde8f7b"
      },
      "source": [
        "common_dictionary.id2token"
      ],
      "execution_count": null,
      "outputs": [
        {
          "data": {
            "text/plain": [
              "{0: 'александр',\n",
              " 1: 'алексей',\n",
              " 2: 'андрей',\n",
              " 3: 'армеец',\n",
              " 4: 'банк',\n",
              " 5: 'баскетбол',\n",
              " 6: 'близкий',\n",
              " 7: 'блок',\n",
              " 8: 'борьба',\n",
              " 9: 'ватутин',\n",
              " 10: 'взаимодействие',\n",
              " 11: 'власть',\n",
              " 12: 'войти',\n",
              " 13: 'вячеслав',\n",
              " 14: 'генералполковник',\n",
              " 15: 'генеральный',\n",
              " 16: 'георгий',\n",
              " 17: 'гмк',\n",
              " 18: 'директор',\n",
              " 19: 'европа',\n",
              " 20: 'единогласно',\n",
              " 21: 'заместитель',\n",
              " 22: 'заседание',\n",
              " 23: 'защита',\n",
              " 24: 'иванов',\n",
              " 25: 'избрать',\n",
              " 26: 'исакович',\n",
              " 27: 'клиентский',\n",
              " 28: 'клуб',\n",
              " 29: 'конституционный',\n",
              " 30: 'корпоративный',\n",
              " 31: 'леонид',\n",
              " 32: 'лопат',\n",
              " 33: 'министр',\n",
              " 34: 'мир',\n",
              " 35: 'начальник',\n",
              " 36: 'никель',\n",
              " 37: 'новак',\n",
              " 38: 'норильский',\n",
              " 39: 'оао',\n",
              " 40: 'обсуждение',\n",
              " 41: 'округ',\n",
              " 42: 'ольга',\n",
              " 43: 'ооо',\n",
              " 44: 'орган',\n",
              " 45: 'основной',\n",
              " 46: 'пбк',\n",
              " 47: 'первый',\n",
              " 48: 'перспектива',\n",
              " 49: 'планирование',\n",
              " 50: 'плешаков',\n",
              " 51: 'политика',\n",
              " 52: 'полномочный',\n",
              " 53: 'полтавец',\n",
              " 54: 'полтавченко',\n",
              " 55: 'правительство',\n",
              " 56: 'правление',\n",
              " 57: 'председатель',\n",
              " 58: 'прессслужба',\n",
              " 59: 'принять',\n",
              " 60: 'провоторов',\n",
              " 61: 'проект',\n",
              " 62: 'развитие',\n",
              " 63: 'решение',\n",
              " 64: 'ростелеком',\n",
              " 65: 'руководитель',\n",
              " 66: 'рф',\n",
              " 67: 'седов',\n",
              " 68: 'сергей',\n",
              " 69: 'служба',\n",
              " 70: 'совет',\n",
              " 71: 'состав',\n",
              " 72: 'состояние',\n",
              " 73: 'социальный',\n",
              " 74: 'спортивный',\n",
              " 75: 'стратегия',\n",
              " 76: 'строй',\n",
              " 77: 'текущий',\n",
              " 78: 'терроризм',\n",
              " 79: 'трансаэро',\n",
              " 80: 'трёхкратный',\n",
              " 81: 'ук',\n",
              " 82: 'утверждение',\n",
              " 83: 'федеральный',\n",
              " 84: 'финансы',\n",
              " 85: 'фсб',\n",
              " 86: 'функция',\n",
              " 87: 'центральный',\n",
              " 88: 'цска',\n",
              " 89: 'чемпион',\n",
              " 90: 'эксигрок',\n",
              " 91: 'ru',\n",
              " 92: 'болельщик',\n",
              " 93: 'вести',\n",
              " 94: 'взрыв',\n",
              " 95: 'выбросить',\n",
              " 96: 'газета',\n",
              " 97: 'динамовец',\n",
              " 98: 'изз',\n",
              " 99: 'команда',\n",
              " 100: 'корреспондент',\n",
              " 101: 'кромка',\n",
              " 102: 'кубок',\n",
              " 103: 'матч',\n",
              " 104: 'минута',\n",
              " 105: 'онлайнтрансляция',\n",
              " 106: 'остановить',\n",
              " 107: 'остаться',\n",
              " 108: 'передавать',\n",
              " 109: 'петарда',\n",
              " 110: 'пиротехнический',\n",
              " 111: 'подтрибунный',\n",
              " 112: 'поле',\n",
              " 113: 'помещение',\n",
              " 114: 'приостановить',\n",
              " 115: 'пять',\n",
              " 116: 'россия',\n",
              " 117: 'снаряд',\n",
              " 118: 'судья',\n",
              " 119: 'торпедовец',\n",
              " 120: 'увести',\n",
              " 121: 'уйти',\n",
              " 122: 'финал',\n",
              " 123: 'футбол',\n",
              " 124: 'авангард',\n",
              " 125: 'атланта',\n",
              " 126: 'быстрый',\n",
              " 127: 'включиться',\n",
              " 128: 'выезд',\n",
              " 129: 'гол',\n",
              " 130: 'девять',\n",
              " 131: 'заборский',\n",
              " 132: 'забросить',\n",
              " 133: 'задать',\n",
              " 134: 'игра',\n",
              " 135: 'играть',\n",
              " 136: 'кхл',\n",
              " 137: 'настраиваться',\n",
              " 138: 'нижний',\n",
              " 139: 'новгород',\n",
              " 140: 'очко',\n",
              " 141: 'плохой',\n",
              " 142: 'поединок',\n",
              " 143: 'получиться',\n",
              " 144: 'прокомментировать',\n",
              " 145: 'против',\n",
              " 146: 'сторона',\n",
              " 147: 'темп',\n",
              " 148: 'томаш',\n",
              " 149: 'торпедо',\n",
              " 150: 'форвард',\n",
              " 151: 'хороший',\n",
              " 152: 'чемпионат',\n",
              " 153: 'афолаби',\n",
              " 154: 'бальда',\n",
              " 155: 'возможно',\n",
              " 156: 'всё',\n",
              " 157: 'второй',\n",
              " 158: 'выпустить',\n",
              " 159: 'главный',\n",
              " 160: 'го',\n",
              " 161: 'дать',\n",
              " 162: 'действительно',\n",
              " 163: 'жизнь',\n",
              " 164: 'закончить',\n",
              " 165: 'замена',\n",
              " 166: 'заменить',\n",
              " 167: 'заработать',\n",
              " 168: 'заявка',\n",
              " 169: 'здорово',\n",
              " 170: 'игрок',\n",
              " 171: 'идти',\n",
              " 172: 'конец',\n",
              " 173: 'красножанин',\n",
              " 174: 'крыло',\n",
              " 175: 'кубань',\n",
              " 176: 'лидер',\n",
              " 177: 'менее',\n",
              " 178: 'момент',\n",
              " 179: 'наверное',\n",
              " 180: 'настроение',\n",
              " 181: 'немало',\n",
              " 182: 'неплохо',\n",
              " 183: 'овладевать',\n",
              " 184: 'осложнить',\n",
              " 185: 'отпускной',\n",
              " 186: 'отсюда',\n",
              " 187: 'отыграть',\n",
              " 188: 'победа',\n",
              " 189: 'подряд',\n",
              " 190: 'позиция',\n",
              " 191: 'пока',\n",
              " 192: 'понемногу',\n",
              " 193: 'попасть',\n",
              " 194: 'попов',\n",
              " 195: 'почему',\n",
              " 196: 'пребывать',\n",
              " 197: 'преимущество',\n",
              " 198: 'привыкать',\n",
              " 199: 'самоуспокоенность',\n",
              " 200: 'сезон',\n",
              " 201: 'смочь',\n",
              " 202: 'создать',\n",
              " 203: 'спокойствие',\n",
              " 204: 'статус',\n",
              " 205: 'счёт',\n",
              " 206: 'сэ',\n",
              " 207: 'требоваться',\n",
              " 208: 'тренер',\n",
              " 209: 'тур',\n",
              " 210: 'уверенно',\n",
              " 211: 'успокаиваться',\n",
              " 212: 'хотеть',\n",
              " 213: 'целое',\n",
              " 214: 'частично',\n",
              " 215: 'чувствовать',\n",
              " 216: 'юрий',\n",
              " 217: 'балан',\n",
              " 218: 'вицегубернатор',\n",
              " 219: 'вицепрезидент',\n",
              " 220: 'владивостокский',\n",
              " 221: 'владимир',\n",
              " 222: 'дальневосточный',\n",
              " 223: 'должность',\n",
              " 224: 'занимать',\n",
              " 225: 'информировать',\n",
              " 226: 'край',\n",
              " 227: 'менеджер',\n",
              " 228: 'насонов',\n",
              " 229: 'оставаться',\n",
              " 230: 'официальный',\n",
              " 231: 'попечительский',\n",
              " 232: 'попрежний',\n",
              " 233: 'пост',\n",
              " 234: 'приморский',\n",
              " 235: 'сайт',\n",
              " 236: 'сандлера',\n",
              " 237: 'спартак',\n",
              " 238: 'упразднить',\n",
              " 239: 'член',\n",
              " 240: 'эдуард',\n",
              " 241: 'буцай',\n",
              " 242: 'входить',\n",
              " 243: 'гдеть',\n",
              " 244: 'главное',\n",
              " 245: 'дневный',\n",
              " 246: 'долго',\n",
              " 247: 'дотерпеть',\n",
              " 248: 'заслуженно',\n",
              " 249: 'ио',\n",
              " 250: 'начинаться',\n",
              " 251: 'непривычный',\n",
              " 252: 'очень',\n",
              " 253: 'период',\n",
              " 254: 'плюс',\n",
              " 255: 'победить',\n",
              " 256: 'поблагодарить',\n",
              " 257: 'показать',\n",
              " 258: 'появиться',\n",
              " 259: 'правильно',\n",
              " 260: 'прежде',\n",
              " 261: 'пропустить',\n",
              " 262: 'разбежаться',\n",
              " 263: 'ребята',\n",
              " 264: 'регулярный',\n",
              " 265: 'связать',\n",
              " 266: 'сибирь',\n",
              " 267: 'скажем',\n",
              " 268: 'смена',\n",
              " 269: 'сонный',\n",
              " 270: 'третий',\n",
              " 271: 'удачно',\n",
              " 272: 'югра',\n",
              " 273: 'будник',\n",
              " 274: 'ворскла',\n",
              " 275: 'встреча',\n",
              " 276: 'голый',\n",
              " 277: 'громов',\n",
              " 278: 'дом',\n",
              " 279: 'завершиться',\n",
              " 280: 'запорожский',\n",
              " 281: 'материал',\n",
              " 282: 'металлург',\n",
              " 283: 'новость',\n",
              " 284: 'поражение',\n",
              " 285: 'посмотреть',\n",
              " 286: 'потерпеть',\n",
              " 287: 'разгромный',\n",
              " 288: 'страница',\n",
              " 289: 'украина',\n",
              " 290: 'украинский',\n",
              " 291: 'чеснаковы',\n",
              " 292: 'австрия',\n",
              " 293: 'бол',\n",
              " 294: 'бьюгстадо',\n",
              " 295: 'вельзер',\n",
              " 296: 'день',\n",
              " 297: 'джонсон',\n",
              " 298: 'иберер',\n",
              " 299: 'игровой',\n",
              " 300: 'кристо',\n",
              " 301: 'латуз',\n",
              " 302: 'леблан',\n",
              " 303: 'лукас',\n",
              " 304: 'макбэйн',\n",
              " 305: 'мосс',\n",
              " 306: 'одержать',\n",
              " 307: 'пайнтнер',\n",
              " 308: 'палушать',\n",
              " 309: 'сборная',\n",
              " 310: 'стартовый',\n",
              " 311: 'стэплтон',\n",
              " 312: 'сша',\n",
              " 313: 'фолкнуть',\n",
              " 314: 'хоккей',\n",
              " 315: 'хундертпфунда',\n",
              " 316: 'штястный',\n",
              " 317: 'шуллера',\n",
              " 318: 'больший',\n",
              " 319: 'бывший',\n",
              " 320: 'взять',\n",
              " 321: 'внести',\n",
              " 322: 'вырасти',\n",
              " 323: 'выступление',\n",
              " 324: 'дарюс',\n",
              " 325: 'защитник',\n",
              " 326: 'илья',\n",
              " 327: 'илюха',\n",
              " 328: 'каспарайтис',\n",
              " 329: 'качество',\n",
              " 330: 'ковальчук',\n",
              " 331: 'латвия',\n",
              " 332: 'малкин',\n",
              " 333: 'национальный',\n",
              " 334: 'ожидание',\n",
              " 335: 'ознакомиться',\n",
              " 336: 'поделиться',\n",
              " 337: 'пойти',\n",
              " 338: 'последний',\n",
              " 339: 'потрясающе',\n",
              " 340: 'прошлый',\n",
              " 341: 'сильно',\n",
              " 342: 'статистика',\n",
              " 343: 'выиграть',\n",
              " 344: 'данил',\n",
              " 345: 'делать',\n",
              " 346: 'добиться',\n",
              " 347: 'думать',\n",
              " 348: 'жиляев',\n",
              " 349: 'завтра',\n",
              " 350: 'зоран',\n",
              " 351: 'известно',\n",
              " 352: 'исполниться',\n",
              " 353: 'капитан',\n",
              " 354: 'касаться',\n",
              " 355: 'крупный',\n",
              " 356: 'надеяться',\n",
              " 357: 'подарок',\n",
              " 358: 'пожелать',\n",
              " 359: 'полузащитник',\n",
              " 360: 'произнести',\n",
              " 361: 'просто',\n",
              " 362: 'речь',\n",
              " 363: 'сделать',\n",
              " 364: 'сербский',\n",
              " 365: 'серьёзный',\n",
              " 366: 'слуцкий',\n",
              " 367: 'терек',\n",
              " 368: 'тошич',\n",
              " 369: 'травма',\n",
              " 370: 'удачный',\n",
              " 371: 'ушибить',\n",
              " 372: 'характер',\n",
              " 373: 'хромать',\n",
              " 374: 'чемпионство',\n",
              " 375: 'шаг',\n",
              " 376: 'барселона',\n",
              " 377: 'бетис',\n",
              " 378: 'вальдес',\n",
              " 379: 'виктор',\n",
              " 380: 'воспаление',\n",
              " 381: 'вратарь',\n",
              " 382: 'испания',\n",
              " 383: 'каталонец',\n",
              " 384: 'кость',\n",
              " 385: 'левый',\n",
              " 386: 'нога',\n",
              " 387: 'подошвенный',\n",
              " 388: 'стопа',\n",
              " 389: 'фасциит',\n",
              " 390: 'анастасия',\n",
              " 391: 'испанка',\n",
              " 392: 'карл',\n",
              " 393: 'обыграть',\n",
              " 394: 'оэйраша',\n",
              " 395: 'павлюченков',\n",
              " 396: 'победительница',\n",
              " 397: 'призовой',\n",
              " 398: 'решающий',\n",
              " 399: 'россиянка',\n",
              " 400: 'суареснаварро',\n",
              " 401: 'теннис',\n",
              " 402: 'турнир',\n",
              " 403: 'тыс',\n",
              " 404: 'фонд',\n",
              " 405: 'анжи',\n",
              " 406: 'бедро',\n",
              " 407: 'вернуться',\n",
              " 408: 'волга',\n",
              " 409: 'задний',\n",
              " 410: 'ивуариец',\n",
              " 411: 'казанский',\n",
              " 412: 'лассина',\n",
              " 413: 'махачкала',\n",
              " 414: 'нападать',\n",
              " 415: 'общий',\n",
              " 416: 'поверхность',\n",
              " 417: 'премьерлига',\n",
              " 418: 'рамка',\n",
              " 419: 'российский',\n",
              " 420: 'рубин',\n",
              " 421: 'траор',\n",
              " 422: 'тренировка',\n",
              " 423: 'бохара',\n",
              " 424: 'железнодорожник',\n",
              " 425: 'завершить',\n",
              " 426: 'касейдо',\n",
              " 427: 'контрольный',\n",
              " 428: 'кучук',\n",
              " 429: 'локомотив',\n",
              " 430: 'марибора',\n",
              " 431: 'местный',\n",
              " 432: 'металлист',\n",
              " 433: 'московский',\n",
              " 434: 'подопечный',\n",
              " 435: 'предупреждеие',\n",
              " 436: 'проиграть',\n",
              " 437: 'сбор',\n",
              " 438: 'следующий',\n",
              " 439: 'словения',\n",
              " 440: 'соперник',\n",
              " 441: 'таварес',\n",
              " 442: 'торбинский',\n",
              " 443: 'учебнотренировочный',\n",
              " 444: 'харьковский',\n",
              " 445: 'хорватский',\n",
              " 446: 'atp',\n",
              " 447: 'важный',\n",
              " 448: 'возраст',\n",
              " 449: 'возрастной',\n",
              " 450: 'вокруг',\n",
              " 451: 'вообще',\n",
              " 452: 'врач',\n",
              " 453: 'далёкий',\n",
              " 454: 'действовать',\n",
              " 455: 'джокович',\n",
              " 456: 'достаточно',\n",
              " 457: 'желание',\n",
              " 458: 'круг',\n",
              " 459: 'мнение',\n",
              " 460: 'множество',\n",
              " 461: 'мудрость',\n",
              " 462: 'начинать',\n",
              " 463: 'немец',\n",
              " 464: 'нужно',\n",
              " 465: 'оно',\n",
              " 466: 'опыт',\n",
              " 467: 'оценивать',\n",
              " 468: 'питание',\n",
              " 469: 'позволять',\n",
              " 470: 'понимать',\n",
              " 471: 'правило',\n",
              " 472: 'правильный',\n",
              " 473: 'приводить',\n",
              " 474: 'ракетка',\n",
              " 475: 'сила',\n",
              " 476: 'собирать',\n",
              " 477: 'согласно',\n",
              " 478: 'специалист',\n",
              " 479: 'существовать',\n",
              " 480: 'сыграть',\n",
              " 481: 'теннисист',\n",
              " 482: 'ти',\n",
              " 483: 'томми',\n",
              " 484: 'трезво',\n",
              " 485: 'уимблдон',\n",
              " 486: 'успех',\n",
              " 487: 'фактор',\n",
              " 488: 'физиотерапевт',\n",
              " 489: 'форма',\n",
              " 490: 'хаас',\n",
              " 491: 'четвёртый',\n",
              " 492: 'гомис',\n",
              " 493: 'груда',\n",
              " 494: 'дюмерс',\n",
              " 495: 'женский',\n",
              " 496: 'литтл',\n",
              " 497: 'место',\n",
              " 498: 'одолеть',\n",
              " 499: 'орша',\n",
              " 500: 'сербия',\n",
              " 501: 'торренс',\n",
              " 502: 'турция',\n",
              " 503: 'франция',\n",
              " 504: 'французский',\n",
              " 505: 'шаргай',\n",
              " 506: 'cbs',\n",
              " 507: 'агент',\n",
              " 508: 'айлендерс',\n",
              " 509: 'взамен',\n",
              " 510: 'выбрать',\n",
              " 511: 'драфт',\n",
              " 512: 'клаттербак',\n",
              " 513: 'количество',\n",
              " 514: 'контракт',\n",
              " 515: 'кэла',\n",
              " 516: 'летний',\n",
              " 517: 'миннесота',\n",
              " 518: 'минувший',\n",
              " 519: 'молодой',\n",
              " 520: 'набрать',\n",
              " 521: 'нидеррайтер',\n",
              " 522: 'нино',\n",
              " 523: 'новый',\n",
              " 524: 'номер',\n",
              " 525: 'нхл',\n",
              " 526: 'обменять',\n",
              " 527: 'ограниченно',\n",
              " 528: 'островитянин',\n",
              " 529: 'переходить',\n",
              " 530: 'поэтому',\n",
              " 531: 'приём',\n",
              " 532: 'пятый',\n",
              " 533: 'свободный',\n",
              " 534: 'силовой',\n",
              " 535: 'jcom',\n",
              " 536: 'активный',\n",
              " 537: 'бродый',\n",
              " 538: 'ванкувер',\n",
              " 539: 'выбор',\n",
              " 540: 'голкипер',\n",
              " 541: 'девятый',\n",
              " 542: 'дьявол',\n",
              " 543: 'завершение',\n",
              " 544: 'итоговый',\n",
              " 545: 'канадский',\n",
              " 546: 'карьера',\n",
              " 547: 'корь',\n",
              " 548: 'кэнакс',\n",
              " 549: 'луонго',\n",
              " 550: 'мартин',\n",
              " 551: 'многоопытный',\n",
              " 552: 'найти',\n",
              " 553: 'ньюджерси',\n",
              " 554: 'обмен',\n",
              " 555: 'покинуть',\n",
              " 556: 'призвать',\n",
              " 557: 'пристанище',\n",
              " 558: 'раунд',\n",
              " 559: 'роберто',\n",
              " 560: 'солидный',\n",
              " 561: 'удаться',\n",
              " 562: 'шнайдер',\n",
              " 563: 'sportsru',\n",
              " 564: 'аккуратный',\n",
              " 565: 'беспокоить',\n",
              " 566: 'большой',\n",
              " 567: 'видеть',\n",
              " 568: 'десять',\n",
              " 569: 'динамо',\n",
              " 570: 'достойно',\n",
              " 571: 'заслуживать',\n",
              " 572: 'зенит',\n",
              " 573: 'киевлянин',\n",
              " 574: 'киевский',\n",
              " 575: 'кондиция',\n",
              " 576: 'лучано',\n",
              " 577: 'мешать',\n",
              " 578: 'назад',\n",
              " 579: 'например',\n",
              " 580: 'начать',\n",
              " 581: 'неприятно',\n",
              " 582: 'объединить',\n",
              " 583: 'отличие',\n",
              " 584: 'подготовка',\n",
              " 585: 'проигрывать',\n",
              " 586: 'происходить',\n",
              " 587: 'ранний',\n",
              " 588: 'семь',\n",
              " 589: 'спаллетти',\n",
              " 590: 'сражаться',\n",
              " 591: 'травмироваться',\n",
              " 592: 'увидеть',\n",
              " 593: 'улучшение',\n",
              " 594: 'физический',\n",
              " 595: 'хотя',\n",
              " 596: 'широков',\n",
              " 597: 'алвес',\n",
              " 598: 'альба',\n",
              " 599: 'арбелоа',\n",
              " 600: 'бразилия',\n",
              " 601: 'бразильский',\n",
              " 602: 'бускетс',\n",
              " 603: 'давид',\n",
              " 604: 'дань',\n",
              " 605: 'жулио',\n",
              " 606: 'иньест',\n",
              " 607: 'касильяс',\n",
              " 608: 'конфедерация',\n",
              " 609: 'луис',\n",
              " 610: 'маракан',\n",
              " 611: 'марио',\n",
              " 612: 'марсесть',\n",
              " 613: 'мат',\n",
              " 614: 'мск',\n",
              " 615: 'неймара',\n",
              " 616: 'оскар',\n",
              " 617: 'паулиньо',\n",
              " 618: 'педро',\n",
              " 619: 'пик',\n",
              " 620: 'прямой',\n",
              " 621: 'рамос',\n",
              " 622: 'риодежанейро',\n",
              " 623: 'сезара',\n",
              " 624: 'силва',\n",
              " 625: 'состояться',\n",
              " 626: 'стадион',\n",
              " 627: 'текстовый',\n",
              " 628: 'торрес',\n",
              " 629: 'тьяго',\n",
              " 630: 'филья',\n",
              " 631: 'финальный',\n",
              " 632: 'фред',\n",
              " 633: 'хавить',\n",
              " 634: 'халк',\n",
              " 635: 'эрнанести',\n",
              " 636: 'абсолютный',\n",
              " 637: 'ажиотаж',\n",
              " 638: 'алла',\n",
              " 639: 'борисович',\n",
              " 640: 'вид',\n",
              " 641: 'владелец',\n",
              " 642: 'выразить',\n",
              " 643: 'высказывание',\n",
              " 644: 'газзаев',\n",
              " 645: 'господин',\n",
              " 646: 'дабы',\n",
              " 647: 'деньга',\n",
              " 648: 'дорогой',\n",
              " 649: 'зато',\n",
              " 650: 'идея',\n",
              " 651: 'иностранец',\n",
              " 652: 'легионер',\n",
              " 653: 'лимит',\n",
              " 654: 'любимый',\n",
              " 655: 'намерить',\n",
              " 656: 'несерьёзно',\n",
              " 657: 'никто',\n",
              " 658: 'оба',\n",
              " 659: 'объединение',\n",
              " 660: 'организатор',\n",
              " 661: 'оргкомитет',\n",
              " 662: 'относительно',\n",
              " 663: 'перестать',\n",
              " 664: 'петь',\n",
              " 665: 'позитив',\n",
              " 666: 'построение',\n",
              " 667: 'потерять',\n",
              " 668: 'предлагать',\n",
              " 669: 'привести',\n",
              " 670: 'принцип',\n",
              " 671: 'приобрести',\n",
              " 672: 'приходить',\n",
              " 673: 'проводить',\n",
              " 674: 'произойти',\n",
              " 675: 'проституировать',\n",
              " 676: 'противоречить',\n",
              " 677: 'прямо',\n",
              " 678: 'пугачёв',\n",
              " 679: 'пусть',\n",
              " 680: 'разговор',\n",
              " 681: 'рфс',\n",
              " 682: 'свидетельствовать',\n",
              " 683: 'свобода',\n",
              " 684: 'скорее',\n",
              " 685: 'собираться',\n",
              " 686: 'советский',\n",
              " 687: 'спасение',\n",
              " 688: 'спорт',\n",
              " 689: 'сразу',\n",
              " 690: 'стороженко',\n",
              " 691: 'сторонник',\n",
              " 692: 'тонуть',\n",
              " 693: 'тысяча',\n",
              " 694: 'убийство',\n",
              " 695: 'уничтожение',\n",
              " 696: 'федерация',\n",
              " 697: 'ффу',\n",
              " 698: 'ходить',\n",
              " 699: 'черта',\n",
              " 700: 'юношеский',\n",
              " 701: 'бегать',\n",
              " 702: 'блохин',\n",
              " 703: 'временами',\n",
              " 704: 'всетаки',\n",
              " 705: 'вчера',\n",
              " 706: 'выглядеть',\n",
              " 707: 'зритель',\n",
              " 708: 'километраж',\n",
              " 709: 'маленький',\n",
              " 710: 'меняться',\n",
              " 711: 'нагрузка',\n",
              " 712: 'нужный',\n",
              " 713: 'объём',\n",
              " 714: 'олег',\n",
              " 715: 'план',\n",
              " 716: 'поехать',\n",
              " 717: 'поздравлять',\n",
              " 718: 'показывать',\n",
              " 719: 'покупать',\n",
              " 720: 'проявлять',\n",
              " 721: 'роль',\n",
              " 722: 'сбрасывать',\n",
              " 723: 'ставить',\n",
              " 724: 'столько',\n",
              " 725: 'стремиться',\n",
              " 726: 'тактика',\n",
              " 727: 'тяжёлый',\n",
              " 728: 'украинец',\n",
              " 729: 'уровень',\n",
              " 730: 'усталость',\n",
              " 731: 'установка',\n",
              " 732: 'чемуть',\n",
              " 733: 'анатолий',\n",
              " 734: 'аршавин',\n",
              " 735: 'аршавино',\n",
              " 736: 'безнадёжно',\n",
              " 737: 'бойцовский',\n",
              " 738: 'видно',\n",
              " 739: 'возвращение',\n",
              " 740: 'впечатление',\n",
              " 741: 'вряд',\n",
              " 742: 'встретить',\n",
              " 743: 'довольный',\n",
              " 744: 'дух',\n",
              " 745: 'знакомство',\n",
              " 746: 'мастерство',\n",
              " 747: 'набирать',\n",
              " 748: 'начаться',\n",
              " 749: 'небольшой',\n",
              " 750: 'некоторый',\n",
              " 751: 'никуда',\n",
              " 752: 'опытный',\n",
              " 753: 'положительный',\n",
              " 754: 'понятно',\n",
              " 755: 'приятно',\n",
              " 756: 'проблема',\n",
              " 757: 'профессионализм',\n",
              " 758: 'реакция',\n",
              " 759: 'русский',\n",
              " 760: 'тимощука',\n",
              " 761: 'удача',\n",
              " 762: 'уста',\n",
              " 763: 'человеческий',\n",
              " 764: 'возвращаться',\n",
              " 765: 'впереди',\n",
              " 766: 'вывод',\n",
              " 767: 'жаль',\n",
              " 768: 'заметно',\n",
              " 769: 'ломбертс',\n",
              " 770: 'мяч',\n",
              " 771: 'неплохой',\n",
              " 772: 'непросто',\n",
              " 773: 'николас',\n",
              " 774: 'особенно',\n",
              " 775: 'отдавать',\n",
              " 776: 'отличный',\n",
              " 777: 'половина',\n",
              " 778: 'свежий',\n",
              " 779: 'старт',\n",
              " 780: 'стоить',\n",
              " 781: 'тайм',\n",
              " 782: 'тренироваться',\n",
              " 783: 'тренировочный',\n",
              " 784: 'устать',\n",
              " 785: 'футболист',\n",
              " 786: 'частый',\n",
              " 787: 'atio',\n",
              " 788: 'sb',\n",
              " 789: 'америка',\n",
              " 790: 'амрия',\n",
              " 791: 'баффало',\n",
              " 792: 'выступать',\n",
              " 793: 'задор',\n",
              " 794: 'затем',\n",
              " 795: 'красный',\n",
              " 796: 'лига',\n",
              " 797: 'лондон',\n",
              " 798: 'мхл',\n",
              " 799: 'найтс',\n",
              " 800: 'никита',\n",
              " 801: 'новичок',\n",
              " 802: 'онтарио',\n",
              " 803: 'северный',\n",
              " 804: 'уехать',\n",
              " 805: 'хоккеист',\n",
              " 806: 'хоккейный',\n",
              " 807: 'аплодировать',\n",
              " 808: 'армянский',\n",
              " 809: 'бавария',\n",
              " 810: 'биться',\n",
              " 811: 'бомбардир',\n",
              " 812: 'генрих',\n",
              " 813: 'горняк',\n",
              " 814: 'действие',\n",
              " 815: 'демонстрировать',\n",
              " 816: 'донецкий',\n",
              " 817: 'забивать',\n",
              " 818: 'заявление',\n",
              " 819: 'иной',\n",
              " 820: 'исчезнуть',\n",
              " 821: 'каждый',\n",
              " 822: 'какиеть',\n",
              " 823: 'комментировать',\n",
              " 824: 'ливерпуль',\n",
              " 825: 'лучёска',\n",
              " 826: 'мадридский',\n",
              " 827: 'менять',\n",
              " 828: 'мирча',\n",
              " 829: 'мхитарян',\n",
              " 830: 'опуститься',\n",
              " 831: 'остальной',\n",
              " 832: 'отпуск',\n",
              " 833: 'оценить',\n",
              " 834: 'ошибка',\n",
              " 835: 'переговоры',\n",
              " 836: 'переход',\n",
              " 837: 'подумать',\n",
              " 838: 'помогать',\n",
              " 839: 'понять',\n",
              " 840: 'появляться',\n",
              " 841: 'превосходить',\n",
              " 842: 'призывать',\n",
              " 843: 'продлить',\n",
              " 844: 'реал',\n",
              " 845: 'редко',\n",
              " 846: 'руководство',\n",
              " 847: 'самовольно',\n",
              " 848: 'сильный',\n",
              " 849: 'совершать',\n",
              " 850: 'спина',\n",
              " 851: 'травмировать',\n",
              " 852: 'хотеться',\n",
              " 853: 'шахтёр',\n",
              " 854: 'штрафной',\n",
              " 855: 'бельханда',\n",
              " 856: 'вживую',\n",
              " 857: 'впервые',\n",
              " 858: 'джермейн',\n",
              " 859: 'добавить',\n",
              " 860: 'дьемерси',\n",
              " 861: 'интересно',\n",
              " 862: 'интересный',\n",
              " 863: 'краска',\n",
              " 864: 'ленс',\n",
              " 865: 'мбокани',\n",
              " 866: 'официально',\n",
              " 867: 'перерыв',\n",
              " 868: 'представить',\n",
              " 869: 'юнести',\n",
              " 870: 'адам',\n",
              " 871: 'аз',\n",
              " 872: 'аякс',\n",
              " 873: 'вицечемпион',\n",
              " 874: 'голландия',\n",
              " 875: 'достигнуть',\n",
              " 876: 'забить',\n",
              " 877: 'заинтересованный',\n",
              " 878: 'махер',\n",
              " 879: 'молодёжный',\n",
              " 880: 'отдать',\n",
              " 881: 'передача',\n",
              " 882: 'подписать',\n",
              " 883: 'помимо',\n",
              " 884: 'принципиальный',\n",
              " 885: 'псв',\n",
              " 886: 'рассчитать',\n",
              " 887: 'результативный',\n",
              " 888: 'соглашение',\n",
              " 889: 'трансфер',\n",
              " 890: 'выкладываться',\n",
              " 891: 'выходить',\n",
              " 892: 'забывать',\n",
              " 893: 'качественный',\n",
              " 894: 'концентрация',\n",
              " 895: 'любой',\n",
              " 896: 'могилевец',\n",
              " 897: 'независимо',\n",
              " 898: 'неофициальный',\n",
              " 899: 'новинка',\n",
              " 900: 'обидно',\n",
              " 901: 'павел',\n",
              " 902: 'правда',\n",
              " 903: 'прийти',\n",
              " 904: 'реализация',\n",
              " 905: 'соревнование',\n",
              " 906: 'стараться',\n",
              " 907: 'сто',\n",
              " 908: 'хватить',\n",
              " 909: 'шанс',\n",
              " 910: 'эмоция',\n",
              " 911: 'значит',\n",
              " 912: 'полный',\n",
              " 913: 'преддрафтовый',\n",
              " 914: 'признаться',\n",
              " 915: 'равно',\n",
              " 916: 'страшный',\n",
              " 917: 'сюрприз',\n",
              " 918: 'тест',\n",
              " 919: 'торонто',\n",
              " 920: 'yahoosports',\n",
              " 921: 'будущее',\n",
              " 922: 'вариант',\n",
              " 923: 'возможный',\n",
              " 924: 'гиллис',\n",
              " 925: 'движение',\n",
              " 926: 'именно',\n",
              " 927: 'искать',\n",
              " 928: 'курс',\n",
              " 929: 'майк',\n",
              " 930: 'молодёжь',\n",
              " 931: 'необходимо',\n",
              " 932: 'перспективный',\n",
              " 933: 'постоянно',\n",
              " 934: 'постоянный',\n",
              " 935: 'предложение',\n",
              " 936: 'прекрасный',\n",
              " 937: 'приспосабливаться',\n",
              " 938: 'причина',\n",
              " 939: 'различный',\n",
              " 940: 'рассматривать',\n",
              " 941: 'рынок',\n",
              " 942: 'случиться',\n",
              " 943: 'слушать',\n",
              " 944: 'событие',\n",
              " 945: 'трансферный',\n",
              " 946: 'уверенный',\n",
              " 947: 'чтоть',\n",
              " 948: 'балл',\n",
              " 949: 'джей',\n",
              " 950: 'дженять',\n",
              " 951: 'заполучить',\n",
              " 952: 'использовать',\n",
              " 953: 'каролина',\n",
              " 954: 'клинок',\n",
              " 955: 'комфер',\n",
              " 956: 'направление',\n",
              " 957: 'обратный',\n",
              " 958: 'право',\n",
              " 959: 'проследовать',\n",
              " 960: 'секер',\n",
              " 961: 'блэкхоукс',\n",
              " 962: 'болланд',\n",
              " 963: 'двукратный',\n",
              " 964: 'дэйв',\n",
              " 965: 'нынешний',\n",
              " 966: 'обладатель',\n",
              " 967: 'плейофф',\n",
              " 968: 'присоединиться',\n",
              " 969: 'стэнли',\n",
              " 970: 'чикаго',\n",
              " 971: 'чикагский',\n",
              " 972: 'twitter',\n",
              " 973: 'австрийский',\n",
              " 974: 'выходной',\n",
              " 975: 'дагестанский',\n",
              " 976: 'денисов',\n",
              " 977: 'игорь',\n",
              " 978: 'ирднинга',\n",
              " 979: 'леоганг',\n",
              " 980: 'махачкалинский',\n",
              " 981: 'окончание',\n",
              " 982: 'прибыть',\n",
              " 983: 'расположение',\n",
              " 984: 'согласовать',\n",
              " 985: 'условие',\n",
              " 986: 'эксполузащитник',\n",
              " 987: 'болеть',\n",
              " 988: 'буффон',\n",
              " 989: 'вратарский',\n",
              " 990: 'дасаев',\n",
              " 991: 'детство',\n",
              " 992: 'кан',\n",
              " 993: 'коллега',\n",
              " 994: 'нигматуллин',\n",
              " 995: 'нравиться',\n",
              " 996: 'оливер',\n",
              " 997: 'очередь',\n",
              " 998: 'рыжик',\n",
              " 999: 'симпатизировать',\n",
              " ...}"
            ]
          },
          "execution_count": 26,
          "metadata": {},
          "output_type": "execute_result"
        }
      ]
    },
    {
      "cell_type": "markdown",
      "metadata": {
        "id": "YKkuzl96nZ4f"
      },
      "source": [
        "Делаем BoW по списку слов"
      ]
    },
    {
      "cell_type": "code",
      "metadata": {
        "colab": {
          "base_uri": "https://localhost:8080/"
        },
        "id": "QAalxqanm95I",
        "outputId": "972a6665-15ca-4474-a026-5ae683b90076"
      },
      "source": [
        "common_dictionary.doc2bow(['александр' ,'баскетбол' ,'баскетбол' ,'правительство', 'рф'], allow_update=True)"
      ],
      "execution_count": 65,
      "outputs": [
        {
          "output_type": "execute_result",
          "data": {
            "text/plain": [
              "[(0, 1), (5, 2), (55, 1), (66, 1)]"
            ]
          },
          "metadata": {},
          "execution_count": 65
        }
      ]
    },
    {
      "cell_type": "code",
      "metadata": {
        "colab": {
          "base_uri": "https://localhost:8080/"
        },
        "id": "JSf5rfLjROW7",
        "outputId": "f9ff66d9-1d60-4112-db53-44691c75cacb"
      },
      "source": [
        "common_corpus[0][0]"
      ],
      "execution_count": 66,
      "outputs": [
        {
          "output_type": "execute_result",
          "data": {
            "text/plain": [
              "(0, 2)"
            ]
          },
          "metadata": {},
          "execution_count": 66
        }
      ]
    },
    {
      "cell_type": "code",
      "metadata": {
        "colab": {
          "base_uri": "https://localhost:8080/"
        },
        "id": "mcQAiY4kRlAW",
        "outputId": "94a1a424-779a-47b0-89ee-6444d55735a3"
      },
      "source": [
        "len(texts[3])"
      ],
      "execution_count": 70,
      "outputs": [
        {
          "output_type": "execute_result",
          "data": {
            "text/plain": [
              "81"
            ]
          },
          "metadata": {},
          "execution_count": 70
        }
      ]
    },
    {
      "cell_type": "markdown",
      "metadata": {
        "id": "jrkMUNueMIGv"
      },
      "source": [
        "Все просто - это словарь наших слов"
      ]
    },
    {
      "cell_type": "markdown",
      "metadata": {
        "id": "LksYgmAqMIGw"
      },
      "source": [
        "Запускаем обучение"
      ]
    },
    {
      "cell_type": "code",
      "metadata": {
        "id": "vcBROvtBkGix"
      },
      "source": [
        "N_topic = 20 # число тем - гиперпараметр"
      ],
      "execution_count": 72,
      "outputs": []
    },
    {
      "cell_type": "code",
      "metadata": {
        "colab": {
          "base_uri": "https://localhost:8080/"
        },
        "id": "xtKgOLXzMIGw",
        "outputId": "a7f3de5b-9c8a-40d0-873a-892948b523ff"
      },
      "source": [
        "%%time\n",
        "from gensim.models import LdaModel\n",
        "# Train the model on the corpus.\n",
        "lda = LdaModel(common_corpus, num_topics=N_topic, id2word=common_dictionary)#, passes=10)"
      ],
      "execution_count": 73,
      "outputs": [
        {
          "output_type": "stream",
          "name": "stdout",
          "text": [
            "CPU times: user 46.8 s, sys: 21.9 s, total: 1min 8s\n",
            "Wall time: 44.3 s\n"
          ]
        }
      ]
    },
    {
      "cell_type": "code",
      "metadata": {
        "id": "IyVZ-spdMIGx"
      },
      "source": [
        "from gensim.test.utils import datapath\n",
        "# Save model to disk.\n",
        "temp_file = datapath(\"model.lda\")\n",
        "lda.save(temp_file)\n",
        "\n",
        "# Load a potentially pretrained model from disk.\n",
        "lda = LdaModel.load(temp_file)"
      ],
      "execution_count": 74,
      "outputs": []
    },
    {
      "cell_type": "markdown",
      "metadata": {
        "id": "ZshpqNKwMIGx"
      },
      "source": [
        "Обучили модель. Теперь 2 вопроса:\n",
        "\n",
        "1. как выглядят наши темы\n",
        "2. как получить для документа вектор значений (вероятности принадлежности каждой теме)"
      ]
    },
    {
      "cell_type": "code",
      "metadata": {
        "colab": {
          "base_uri": "https://localhost:8080/"
        },
        "id": "-stkuTDxMIGy",
        "outputId": "1f42fcc1-92e9-4560-b01b-498bb7b625de"
      },
      "source": [
        "# Create a new corpus, made of previously unseen documents.\n",
        "other_texts = [t for t in news['title'].iloc[:3]]\n",
        "other_corpus = [common_dictionary.doc2bow(text) for text in other_texts]\n",
        "\n",
        "unseen_doc = other_corpus[2]\n",
        "print(other_texts[2])\n",
        "lda[unseen_doc] "
      ],
      "execution_count": null,
      "outputs": [
        {
          "name": "stdout",
          "output_type": "stream",
          "text": [
            "['форвард', 'авангард', 'томаш', 'заборский', 'прокомментировать', 'игра', 'команда', 'матч', 'чемпионат', 'кхл', 'против', 'атланта', 'плохой', 'матч', 'нижний', 'новгород', 'против', 'торпедо', 'настраиваться', 'первый', 'минута', 'включиться', 'заборский', 'получиться', 'забросить', 'быстрый', 'гол', 'задать', 'хороший', 'темп', 'поединок', 'играть', 'хороший', 'сторона', 'пять', 'очко', 'выезд', 'девять', 'хороший']\n"
          ]
        },
        {
          "data": {
            "text/plain": [
              "[(3, 0.03991952), (12, 0.5503195), (13, 0.3481757), (16, 0.04158533)]"
            ]
          },
          "execution_count": 103,
          "metadata": {},
          "output_type": "execute_result"
        }
      ]
    },
    {
      "cell_type": "code",
      "metadata": {
        "colab": {
          "base_uri": "https://localhost:8080/"
        },
        "id": "Bbxd48b_MIGz",
        "outputId": "7c97dce6-2ec1-4f3a-fc9e-93662254940f"
      },
      "source": [
        "x=lda.show_topics(num_topics=N_topic, num_words=15,formatted=False)\n",
        "topics_words = [(tp[0], [wd[0] for wd in tp[1]]) for tp in x]\n",
        "\n",
        "#Below Code Prints Only Words \n",
        "for topic,words in topics_words:\n",
        "    print(\"topic_{}: \".format(topic)+\" \".join(words))"
      ],
      "execution_count": 75,
      "outputs": [
        {
          "output_type": "stream",
          "name": "stdout",
          "text": [
            "topic_0: россия военный сша новый система проект экономика рынок космический российский станция наука развитие рост объём\n",
            "topic_1: всё большой очень хороший например первый животное возраст век продукция товар каждый больший день поэтому\n",
            "topic_2: рубль банк тыс погибнуть руб сотрудник население статья рф источник размер санкция млн россия служба\n",
            "topic_3: самолёт ракета полёт корабль нефть спутник орбита аппарат российский двигатель авиакомпания топливо баррель американский система\n",
            "topic_4: ребёнок гражданин обнаружить ru газета поверхность помощь область москва врач территория участок лицо центр лечение\n",
            "topic_5: исследователь смерть писать испытание захватить берег производить выдать доклад необычный летать резерв вино восстановить эксперт\n",
            "topic_6: пациент обращение px японский нафтогаз япония треть южный польша проживать экипаж остров adce нанести tervertical\n",
            "topic_7: газ температура взрыв земля рак научный млрд восток фестиваль составить около млн телескоп место погода\n",
            "topic_8: россия украина российский вопрос путин украинский всё эксперт владимир экономический решение проблема новый иметь государство\n",
            "topic_9: клетка звезда премия первый страдать известный летний доллар нобелевский ce ature daily американский железа армения\n",
            "topic_10: риск сша исследование технология операция американский земля уровень россия рост российский случай активность первый падение\n",
            "topic_11: армия район убийство житель иран произойти пожар дональд квартира дом террорист убить всё журнал офицер\n",
            "topic_12: университет тело статья выяснить место мозг жизнь женщина налог дом штат первый учёный общество ступень\n",
            "topic_13: мкс астронавт метод еда солнце рекорд золото max динозавр кг золотой таиланд женщина обнаружить книга\n",
            "topic_14: научный эксперимент журнал фонд кремль форум сайт специальный ск знаменитый участник дождь оплата опубликовать московский\n",
            "topic_15: цена снижение мозг школа первый рынок рубль тыс программа новый ниже продажа свидетель составить управлять\n",
            "topic_16: писать днк управление тело рейс умереть разместить сведение найти штат вспоминать актив производитель история одежда\n",
            "topic_17: исследование учёный млн опубликовать британский автор asa расследование экипаж данные великобритания ген лаборатория завод scie\n",
            "topic_18: млрд глава правительство фонд министр россия совет российский эксперт министерство власть сша государственный газпром крым\n",
            "topic_19: учёный день турист луна час земля болезнь русский жизнь выяснить москва первый установить древний музей\n"
          ]
        }
      ]
    },
    {
      "cell_type": "markdown",
      "metadata": {
        "id": "gBlxgTZoMIG0"
      },
      "source": [
        "Очень неплохо - большинство тем вполне можно описать о чем они\n",
        "\n",
        "\n",
        "построим темы "
      ]
    },
    {
      "cell_type": "code",
      "metadata": {
        "colab": {
          "base_uri": "https://localhost:8080/"
        },
        "id": "1vbGV31OtHHx",
        "outputId": "537d687b-905d-4441-ee2f-6ec559d24da6"
      },
      "source": [
        "news['title'].iloc[0]"
      ],
      "execution_count": 76,
      "outputs": [
        {
          "output_type": "execute_result",
          "data": {
            "text/plain": [
              "['заместитель',\n",
              " 'председатель',\n",
              " 'правительство',\n",
              " 'рф',\n",
              " 'сергей',\n",
              " 'иванов',\n",
              " 'избрать',\n",
              " 'председатель',\n",
              " 'совет',\n",
              " 'пбк',\n",
              " 'цска',\n",
              " 'прессслужба',\n",
              " 'армеец',\n",
              " 'решение',\n",
              " 'единогласно',\n",
              " 'принять',\n",
              " 'первый',\n",
              " 'заседание',\n",
              " 'совет',\n",
              " 'клуб',\n",
              " 'основной',\n",
              " 'функция',\n",
              " 'орган',\n",
              " 'обсуждение',\n",
              " 'текущий',\n",
              " 'состояние',\n",
              " 'планирование',\n",
              " 'утверждение',\n",
              " 'стратегия',\n",
              " 'развитие',\n",
              " 'клуб',\n",
              " 'близкий',\n",
              " 'перспектива',\n",
              " 'состав',\n",
              " 'совет',\n",
              " 'войти',\n",
              " 'георгий',\n",
              " 'полтавченко',\n",
              " 'полномочный',\n",
              " 'центральный',\n",
              " 'федеральный',\n",
              " 'округ',\n",
              " 'алексей',\n",
              " 'седов',\n",
              " 'генералполковник',\n",
              " 'начальник',\n",
              " 'служба',\n",
              " 'защита',\n",
              " 'конституционный',\n",
              " 'строй',\n",
              " 'борьба',\n",
              " 'терроризм',\n",
              " 'фсб',\n",
              " 'рф',\n",
              " 'александр',\n",
              " 'новак',\n",
              " 'заместитель',\n",
              " 'министр',\n",
              " 'финансы',\n",
              " 'рф',\n",
              " 'вячеслав',\n",
              " 'полтавец',\n",
              " 'заместитель',\n",
              " 'генеральный',\n",
              " 'директор',\n",
              " 'руководитель',\n",
              " 'блок',\n",
              " 'взаимодействие',\n",
              " 'орган',\n",
              " 'власть',\n",
              " 'социальный',\n",
              " 'корпоративный',\n",
              " 'политика',\n",
              " 'гмк',\n",
              " 'норильский',\n",
              " 'никель',\n",
              " 'леонид',\n",
              " 'исакович',\n",
              " 'генеральный',\n",
              " 'директор',\n",
              " 'ооо',\n",
              " 'ук',\n",
              " 'спортивный',\n",
              " 'проект',\n",
              " 'ольга',\n",
              " 'плешаков',\n",
              " 'генеральный',\n",
              " 'директор',\n",
              " 'трансаэро',\n",
              " 'александр',\n",
              " 'провоторов',\n",
              " 'генеральный',\n",
              " 'директор',\n",
              " 'оао',\n",
              " 'ростелеком',\n",
              " 'андрей',\n",
              " 'лопат',\n",
              " 'эксигрок',\n",
              " 'цска',\n",
              " 'чемпион',\n",
              " 'мир',\n",
              " 'трёхкратный',\n",
              " 'чемпион',\n",
              " 'европа',\n",
              " 'баскетбол',\n",
              " 'председатель',\n",
              " 'правление',\n",
              " 'банк',\n",
              " 'клиентский',\n",
              " 'андрей',\n",
              " 'ватутин',\n",
              " 'пбк',\n",
              " 'цска']"
            ]
          },
          "metadata": {},
          "execution_count": 76
        }
      ]
    },
    {
      "cell_type": "code",
      "metadata": {
        "colab": {
          "base_uri": "https://localhost:8080/"
        },
        "id": "NzIVpjbQsK_8",
        "outputId": "ac71084d-218b-4eef-e8a0-a6238d5200c4"
      },
      "source": [
        "lda[common_dictionary.doc2bow(news['title'].iloc[0])]"
      ],
      "execution_count": 78,
      "outputs": [
        {
          "output_type": "execute_result",
          "data": {
            "text/plain": [
              "[(2, 0.4925577),\n",
              " (5, 0.034250446),\n",
              " (12, 0.025827294),\n",
              " (14, 0.19951452),\n",
              " (18, 0.24127112)]"
            ]
          },
          "metadata": {},
          "execution_count": 78
        }
      ]
    },
    {
      "cell_type": "markdown",
      "metadata": {
        "id": "ZqB953kTMIG0"
      },
      "source": [
        "Давайте напишем функцию, которая будет нам возвращать векторное представление новости"
      ]
    },
    {
      "cell_type": "code",
      "metadata": {
        "id": "dKAc5hiVMIG1"
      },
      "source": [
        "#text = news['title'].iloc[0]\n",
        "\n",
        "def get_lda_vector(text):\n",
        "    unseen_doc = common_dictionary.doc2bow(text)\n",
        "    lda_tuple = lda[unseen_doc]\n",
        "    not_null_topics = dict(zip([i[0] for i in lda_tuple], [i[1] for i in lda_tuple]))\n",
        "\n",
        "    output_vector = []\n",
        "    for i in range(N_topic):\n",
        "        if i not in not_null_topics:\n",
        "            output_vector.append(0)\n",
        "        else:\n",
        "            output_vector.append(not_null_topics[i])\n",
        "    return np.array(output_vector)"
      ],
      "execution_count": 79,
      "outputs": []
    },
    {
      "cell_type": "code",
      "metadata": {
        "colab": {
          "base_uri": "https://localhost:8080/",
          "height": 223
        },
        "id": "QKc4AAI5MIG2",
        "outputId": "0a1fe959-c2a5-47cc-baa9-d9390e51b256"
      },
      "source": [
        "topic_matrix = pd.DataFrame([get_lda_vector(text) for text in news['title'].values])\n",
        "topic_matrix.columns = ['topic_{}'.format(i) for i in range(N_topic)]\n",
        "topic_matrix['doc_id'] = news['doc_id'].values\n",
        "topic_matrix = topic_matrix[['doc_id']+['topic_{}'.format(i) for i in range(N_topic)]]\n",
        "topic_matrix.head(5)"
      ],
      "execution_count": 81,
      "outputs": [
        {
          "output_type": "execute_result",
          "data": {
            "text/html": [
              "<div>\n",
              "<style scoped>\n",
              "    .dataframe tbody tr th:only-of-type {\n",
              "        vertical-align: middle;\n",
              "    }\n",
              "\n",
              "    .dataframe tbody tr th {\n",
              "        vertical-align: top;\n",
              "    }\n",
              "\n",
              "    .dataframe thead th {\n",
              "        text-align: right;\n",
              "    }\n",
              "</style>\n",
              "<table border=\"1\" class=\"dataframe\">\n",
              "  <thead>\n",
              "    <tr style=\"text-align: right;\">\n",
              "      <th></th>\n",
              "      <th>doc_id</th>\n",
              "      <th>topic_0</th>\n",
              "      <th>topic_1</th>\n",
              "      <th>topic_2</th>\n",
              "      <th>topic_3</th>\n",
              "      <th>topic_4</th>\n",
              "      <th>topic_5</th>\n",
              "      <th>topic_6</th>\n",
              "      <th>topic_7</th>\n",
              "      <th>topic_8</th>\n",
              "      <th>topic_9</th>\n",
              "      <th>topic_10</th>\n",
              "      <th>topic_11</th>\n",
              "      <th>topic_12</th>\n",
              "      <th>topic_13</th>\n",
              "      <th>topic_14</th>\n",
              "      <th>topic_15</th>\n",
              "      <th>topic_16</th>\n",
              "      <th>topic_17</th>\n",
              "      <th>topic_18</th>\n",
              "      <th>topic_19</th>\n",
              "    </tr>\n",
              "  </thead>\n",
              "  <tbody>\n",
              "    <tr>\n",
              "      <th>0</th>\n",
              "      <td>6</td>\n",
              "      <td>0.0</td>\n",
              "      <td>0.000000</td>\n",
              "      <td>0.49255</td>\n",
              "      <td>0.0</td>\n",
              "      <td>0.000000</td>\n",
              "      <td>0.034208</td>\n",
              "      <td>0.00000</td>\n",
              "      <td>0.000000</td>\n",
              "      <td>0.000000</td>\n",
              "      <td>0.000000</td>\n",
              "      <td>0.000000</td>\n",
              "      <td>0.0</td>\n",
              "      <td>0.025846</td>\n",
              "      <td>0.000000</td>\n",
              "      <td>0.199524</td>\n",
              "      <td>0.00000</td>\n",
              "      <td>0.000000</td>\n",
              "      <td>0.0</td>\n",
              "      <td>0.241293</td>\n",
              "      <td>0.000000</td>\n",
              "    </tr>\n",
              "    <tr>\n",
              "      <th>1</th>\n",
              "      <td>4896</td>\n",
              "      <td>0.0</td>\n",
              "      <td>0.000000</td>\n",
              "      <td>0.00000</td>\n",
              "      <td>0.0</td>\n",
              "      <td>0.135949</td>\n",
              "      <td>0.000000</td>\n",
              "      <td>0.16074</td>\n",
              "      <td>0.682579</td>\n",
              "      <td>0.000000</td>\n",
              "      <td>0.000000</td>\n",
              "      <td>0.000000</td>\n",
              "      <td>0.0</td>\n",
              "      <td>0.000000</td>\n",
              "      <td>0.000000</td>\n",
              "      <td>0.000000</td>\n",
              "      <td>0.00000</td>\n",
              "      <td>0.000000</td>\n",
              "      <td>0.0</td>\n",
              "      <td>0.000000</td>\n",
              "      <td>0.000000</td>\n",
              "    </tr>\n",
              "    <tr>\n",
              "      <th>2</th>\n",
              "      <td>4897</td>\n",
              "      <td>0.0</td>\n",
              "      <td>0.438277</td>\n",
              "      <td>0.00000</td>\n",
              "      <td>0.0</td>\n",
              "      <td>0.281591</td>\n",
              "      <td>0.000000</td>\n",
              "      <td>0.00000</td>\n",
              "      <td>0.090062</td>\n",
              "      <td>0.000000</td>\n",
              "      <td>0.124023</td>\n",
              "      <td>0.000000</td>\n",
              "      <td>0.0</td>\n",
              "      <td>0.000000</td>\n",
              "      <td>0.000000</td>\n",
              "      <td>0.000000</td>\n",
              "      <td>0.00000</td>\n",
              "      <td>0.047297</td>\n",
              "      <td>0.0</td>\n",
              "      <td>0.000000</td>\n",
              "      <td>0.000000</td>\n",
              "    </tr>\n",
              "    <tr>\n",
              "      <th>3</th>\n",
              "      <td>4898</td>\n",
              "      <td>0.0</td>\n",
              "      <td>0.557516</td>\n",
              "      <td>0.00000</td>\n",
              "      <td>0.0</td>\n",
              "      <td>0.000000</td>\n",
              "      <td>0.000000</td>\n",
              "      <td>0.00000</td>\n",
              "      <td>0.000000</td>\n",
              "      <td>0.079718</td>\n",
              "      <td>0.000000</td>\n",
              "      <td>0.074788</td>\n",
              "      <td>0.0</td>\n",
              "      <td>0.000000</td>\n",
              "      <td>0.213018</td>\n",
              "      <td>0.000000</td>\n",
              "      <td>0.04872</td>\n",
              "      <td>0.000000</td>\n",
              "      <td>0.0</td>\n",
              "      <td>0.000000</td>\n",
              "      <td>0.017704</td>\n",
              "    </tr>\n",
              "    <tr>\n",
              "      <th>4</th>\n",
              "      <td>4899</td>\n",
              "      <td>0.0</td>\n",
              "      <td>0.000000</td>\n",
              "      <td>0.00000</td>\n",
              "      <td>0.0</td>\n",
              "      <td>0.000000</td>\n",
              "      <td>0.000000</td>\n",
              "      <td>0.00000</td>\n",
              "      <td>0.000000</td>\n",
              "      <td>0.000000</td>\n",
              "      <td>0.000000</td>\n",
              "      <td>0.000000</td>\n",
              "      <td>0.0</td>\n",
              "      <td>0.000000</td>\n",
              "      <td>0.000000</td>\n",
              "      <td>0.164824</td>\n",
              "      <td>0.00000</td>\n",
              "      <td>0.000000</td>\n",
              "      <td>0.0</td>\n",
              "      <td>0.810852</td>\n",
              "      <td>0.000000</td>\n",
              "    </tr>\n",
              "  </tbody>\n",
              "</table>\n",
              "</div>"
            ],
            "text/plain": [
              "   doc_id  topic_0   topic_1  topic_2  ...  topic_16  topic_17  topic_18  topic_19\n",
              "0       6      0.0  0.000000  0.49255  ...  0.000000       0.0  0.241293  0.000000\n",
              "1    4896      0.0  0.000000  0.00000  ...  0.000000       0.0  0.000000  0.000000\n",
              "2    4897      0.0  0.438277  0.00000  ...  0.047297       0.0  0.000000  0.000000\n",
              "3    4898      0.0  0.557516  0.00000  ...  0.000000       0.0  0.000000  0.017704\n",
              "4    4899      0.0  0.000000  0.00000  ...  0.000000       0.0  0.810852  0.000000\n",
              "\n",
              "[5 rows x 21 columns]"
            ]
          },
          "metadata": {},
          "execution_count": 81
        }
      ]
    },
    {
      "cell_type": "markdown",
      "metadata": {
        "id": "MbQgZQ3MMIG2"
      },
      "source": [
        "Прекрасно, мы получили вектора наших новостей! И даже умеем интерпретировать получившиеся темы.\n",
        "\n",
        "Можно двигаться далее"
      ]
    },
    {
      "cell_type": "markdown",
      "metadata": {
        "id": "z0JACLjHMIG3"
      },
      "source": [
        "### Следующий шаг - векторные представления пользователей"
      ]
    },
    {
      "cell_type": "code",
      "metadata": {
        "colab": {
          "base_uri": "https://localhost:8080/",
          "height": 355
        },
        "id": "7IcoyDauMIG3",
        "scrolled": true,
        "outputId": "2bca5b68-013c-4a9d-9a21-776a549f7995"
      },
      "source": [
        "users.head(10)"
      ],
      "execution_count": null,
      "outputs": [
        {
          "data": {
            "text/html": [
              "<div>\n",
              "<style scoped>\n",
              "    .dataframe tbody tr th:only-of-type {\n",
              "        vertical-align: middle;\n",
              "    }\n",
              "\n",
              "    .dataframe tbody tr th {\n",
              "        vertical-align: top;\n",
              "    }\n",
              "\n",
              "    .dataframe thead th {\n",
              "        text-align: right;\n",
              "    }\n",
              "</style>\n",
              "<table border=\"1\" class=\"dataframe\">\n",
              "  <thead>\n",
              "    <tr style=\"text-align: right;\">\n",
              "      <th></th>\n",
              "      <th>uid</th>\n",
              "      <th>articles</th>\n",
              "    </tr>\n",
              "  </thead>\n",
              "  <tbody>\n",
              "    <tr>\n",
              "      <th>0</th>\n",
              "      <td>u105138</td>\n",
              "      <td>[293672, 293328, 293001, 293622, 293126, 1852]</td>\n",
              "    </tr>\n",
              "    <tr>\n",
              "      <th>1</th>\n",
              "      <td>u108690</td>\n",
              "      <td>[3405, 1739, 2972, 1158, 1599, 322665]</td>\n",
              "    </tr>\n",
              "    <tr>\n",
              "      <th>2</th>\n",
              "      <td>u108339</td>\n",
              "      <td>[1845, 2009, 2356, 1424, 2939, 323389]</td>\n",
              "    </tr>\n",
              "    <tr>\n",
              "      <th>3</th>\n",
              "      <td>u101138</td>\n",
              "      <td>[5933, 6186, 5055, 6977, 5206, 488389]</td>\n",
              "    </tr>\n",
              "    <tr>\n",
              "      <th>4</th>\n",
              "      <td>u108248</td>\n",
              "      <td>[707, 1144, 2532, 2928, 3133, 324592]</td>\n",
              "    </tr>\n",
              "    <tr>\n",
              "      <th>5</th>\n",
              "      <td>u106662</td>\n",
              "      <td>[323868, 323426, 324267, 322426, 324104, 1550]</td>\n",
              "    </tr>\n",
              "    <tr>\n",
              "      <th>6</th>\n",
              "      <td>u105949</td>\n",
              "      <td>[293138, 294471, 295012, 294736, 293949, 3544]</td>\n",
              "    </tr>\n",
              "    <tr>\n",
              "      <th>7</th>\n",
              "      <td>u102457</td>\n",
              "      <td>[6928, 5009, 6940, 7629, 7644, 512736]</td>\n",
              "    </tr>\n",
              "    <tr>\n",
              "      <th>8</th>\n",
              "      <td>u104124</td>\n",
              "      <td>[322838, 324699, 322991, 322120, 324327, 472331]</td>\n",
              "    </tr>\n",
              "    <tr>\n",
              "      <th>9</th>\n",
              "      <td>u101386</td>\n",
              "      <td>[7827, 6427, 7394, 7151, 6335, 487254]</td>\n",
              "    </tr>\n",
              "  </tbody>\n",
              "</table>\n",
              "</div>"
            ],
            "text/plain": [
              "       uid                                          articles\n",
              "0  u105138    [293672, 293328, 293001, 293622, 293126, 1852]\n",
              "1  u108690            [3405, 1739, 2972, 1158, 1599, 322665]\n",
              "2  u108339            [1845, 2009, 2356, 1424, 2939, 323389]\n",
              "3  u101138            [5933, 6186, 5055, 6977, 5206, 488389]\n",
              "4  u108248             [707, 1144, 2532, 2928, 3133, 324592]\n",
              "5  u106662    [323868, 323426, 324267, 322426, 324104, 1550]\n",
              "6  u105949    [293138, 294471, 295012, 294736, 293949, 3544]\n",
              "7  u102457            [6928, 5009, 6940, 7629, 7644, 512736]\n",
              "8  u104124  [322838, 324699, 322991, 322120, 324327, 472331]\n",
              "9  u101386            [7827, 6427, 7394, 7151, 6335, 487254]"
            ]
          },
          "execution_count": 114,
          "metadata": {},
          "output_type": "execute_result"
        }
      ]
    },
    {
      "cell_type": "code",
      "metadata": {
        "id": "U2pcSIBDMIG4"
      },
      "source": [
        "doc_dict = dict(zip(topic_matrix['doc_id'].values, topic_matrix[['topic_{}'.format(i) for i in range(N_topic)]].values))"
      ],
      "execution_count": 82,
      "outputs": []
    },
    {
      "cell_type": "code",
      "metadata": {
        "colab": {
          "base_uri": "https://localhost:8080/"
        },
        "id": "wG7wI5TfMIG4",
        "outputId": "92b6792c-1508-44ab-d726-a77c32bc23f6"
      },
      "source": [
        "doc_dict[293672]"
      ],
      "execution_count": 83,
      "outputs": [
        {
          "output_type": "execute_result",
          "data": {
            "text/plain": [
              "array([0.        , 0.        , 0.        , 0.        , 0.        ,\n",
              "       0.04811385, 0.        , 0.33273113, 0.18270007, 0.        ,\n",
              "       0.10927661, 0.        , 0.        , 0.        , 0.        ,\n",
              "       0.1757881 , 0.        , 0.        , 0.        , 0.13739026])"
            ]
          },
          "metadata": {},
          "execution_count": 83
        }
      ]
    },
    {
      "cell_type": "code",
      "metadata": {
        "id": "6ssOp3RkMIG5"
      },
      "source": [
        "def get_user_embedding(user_articles_list):\n",
        "    user_articles_list = eval(user_articles_list)\n",
        "    user_vector = np.array([doc_dict[doc_id] for doc_id in user_articles_list])\n",
        "    #print(user_vector)\n",
        "    user_vector1 = np.max(user_vector, 0)  # заменили на медиану, \n",
        "    return user_vector1 #,user_vector"
      ],
      "execution_count": 233,
      "outputs": []
    },
    {
      "cell_type": "code",
      "metadata": {
        "colab": {
          "base_uri": "https://localhost:8080/"
        },
        "id": "tPtPGBWgZgKd",
        "outputId": "e8c563dd-1143-48fa-94d4-5371842afb71"
      },
      "source": [
        "# Для понимания работы функцИИ GET_USER_EMBEDDING\n",
        "usat = eval(users['articles'].iloc[0])\n",
        "us_vec = np.array([doc_dict[doc_id] for doc_id in usat])\n",
        "np.max(us_vec, 0)"
      ],
      "execution_count": 103,
      "outputs": [
        {
          "output_type": "execute_result",
          "data": {
            "text/plain": [
              "array([0.07237289, 0.01802991, 0.19001035, 0.01554401, 0.28986856,\n",
              "       0.04811385, 0.        , 0.42219955, 0.22484572, 0.12494306,\n",
              "       0.10927661, 0.38299909, 0.13040729, 0.18588926, 0.01933428,\n",
              "       0.1757881 , 0.15401937, 0.05381902, 0.19268808, 0.37267384])"
            ]
          },
          "metadata": {},
          "execution_count": 103
        }
      ]
    },
    {
      "cell_type": "code",
      "metadata": {
        "id": "vw-UHq1PLiD6"
      },
      "source": [
        "import matplotlib.pyplot as plt"
      ],
      "execution_count": 106,
      "outputs": []
    },
    {
      "cell_type": "markdown",
      "metadata": {
        "id": "bbJ6STRBMIG6"
      },
      "source": [
        "Интересовался новостями с топиками topic_3, topic_14 (что-то про политику и государство)"
      ]
    },
    {
      "cell_type": "code",
      "metadata": {
        "id": "3UPXZgsVMIG6",
        "colab": {
          "base_uri": "https://localhost:8080/",
          "height": 35
        },
        "outputId": "6bc221e8-9aad-4a37-9b8a-359f1c3d21a3"
      },
      "source": [
        "users['articles'].iloc[0]"
      ],
      "execution_count": 108,
      "outputs": [
        {
          "output_type": "execute_result",
          "data": {
            "application/vnd.google.colaboratory.intrinsic+json": {
              "type": "string"
            },
            "text/plain": [
              "'[293672, 293328, 293001, 293622, 293126, 1852]'"
            ]
          },
          "metadata": {},
          "execution_count": 108
        }
      ]
    },
    {
      "cell_type": "code",
      "metadata": {
        "id": "bDJCMtAFMIG7",
        "scrolled": true
      },
      "source": [
        "#\" \".join(news[news['doc_id']==323186]['title'].iloc[0])"
      ],
      "execution_count": null,
      "outputs": []
    },
    {
      "cell_type": "markdown",
      "metadata": {
        "id": "tk9q6qrVMIG7"
      },
      "source": [
        "Теперь получим эмбединги для всех пользователей и проверим их качество на конкретной downstream-задаче"
      ]
    },
    {
      "cell_type": "code",
      "metadata": {
        "colab": {
          "base_uri": "https://localhost:8080/",
          "height": 162
        },
        "id": "2gJ71BPbMIG8",
        "outputId": "432d5627-43c3-41e4-fa10-9707e2eac104"
      },
      "source": [
        "user_embeddings = pd.DataFrame([i for i in users['articles'].apply(lambda x: get_user_embedding(x), 1)])\n",
        "user_embeddings.columns = ['topic_{}'.format(i) for i in range(N_topic)]\n",
        "user_embeddings['uid'] = users['uid'].values\n",
        "user_embeddings = user_embeddings[['uid']+['topic_{}'.format(i) for i in range(N_topic)]]\n",
        "user_embeddings.head(3)"
      ],
      "execution_count": 234,
      "outputs": [
        {
          "output_type": "execute_result",
          "data": {
            "text/html": [
              "<div>\n",
              "<style scoped>\n",
              "    .dataframe tbody tr th:only-of-type {\n",
              "        vertical-align: middle;\n",
              "    }\n",
              "\n",
              "    .dataframe tbody tr th {\n",
              "        vertical-align: top;\n",
              "    }\n",
              "\n",
              "    .dataframe thead th {\n",
              "        text-align: right;\n",
              "    }\n",
              "</style>\n",
              "<table border=\"1\" class=\"dataframe\">\n",
              "  <thead>\n",
              "    <tr style=\"text-align: right;\">\n",
              "      <th></th>\n",
              "      <th>uid</th>\n",
              "      <th>topic_0</th>\n",
              "      <th>topic_1</th>\n",
              "      <th>topic_2</th>\n",
              "      <th>topic_3</th>\n",
              "      <th>topic_4</th>\n",
              "      <th>topic_5</th>\n",
              "      <th>topic_6</th>\n",
              "      <th>topic_7</th>\n",
              "      <th>topic_8</th>\n",
              "      <th>topic_9</th>\n",
              "      <th>topic_10</th>\n",
              "      <th>topic_11</th>\n",
              "      <th>topic_12</th>\n",
              "      <th>topic_13</th>\n",
              "      <th>topic_14</th>\n",
              "      <th>topic_15</th>\n",
              "      <th>topic_16</th>\n",
              "      <th>topic_17</th>\n",
              "      <th>topic_18</th>\n",
              "      <th>topic_19</th>\n",
              "    </tr>\n",
              "  </thead>\n",
              "  <tbody>\n",
              "    <tr>\n",
              "      <th>0</th>\n",
              "      <td>u105138</td>\n",
              "      <td>0.072373</td>\n",
              "      <td>0.018030</td>\n",
              "      <td>0.190010</td>\n",
              "      <td>0.015544</td>\n",
              "      <td>0.289869</td>\n",
              "      <td>0.048114</td>\n",
              "      <td>0.000000</td>\n",
              "      <td>0.422200</td>\n",
              "      <td>0.224846</td>\n",
              "      <td>0.124943</td>\n",
              "      <td>0.109277</td>\n",
              "      <td>0.382999</td>\n",
              "      <td>0.130407</td>\n",
              "      <td>0.185889</td>\n",
              "      <td>0.019334</td>\n",
              "      <td>0.175788</td>\n",
              "      <td>0.154019</td>\n",
              "      <td>0.053819</td>\n",
              "      <td>0.192688</td>\n",
              "      <td>0.372674</td>\n",
              "    </tr>\n",
              "    <tr>\n",
              "      <th>1</th>\n",
              "      <td>u108690</td>\n",
              "      <td>0.109057</td>\n",
              "      <td>0.086586</td>\n",
              "      <td>0.361848</td>\n",
              "      <td>0.346954</td>\n",
              "      <td>0.275419</td>\n",
              "      <td>0.035287</td>\n",
              "      <td>0.000000</td>\n",
              "      <td>0.098516</td>\n",
              "      <td>0.337376</td>\n",
              "      <td>0.038073</td>\n",
              "      <td>0.153141</td>\n",
              "      <td>0.157588</td>\n",
              "      <td>0.077911</td>\n",
              "      <td>0.024346</td>\n",
              "      <td>0.099422</td>\n",
              "      <td>0.016085</td>\n",
              "      <td>0.157998</td>\n",
              "      <td>0.062808</td>\n",
              "      <td>0.235729</td>\n",
              "      <td>0.113155</td>\n",
              "    </tr>\n",
              "    <tr>\n",
              "      <th>2</th>\n",
              "      <td>u108339</td>\n",
              "      <td>0.120121</td>\n",
              "      <td>0.000000</td>\n",
              "      <td>0.439112</td>\n",
              "      <td>0.000000</td>\n",
              "      <td>0.212756</td>\n",
              "      <td>0.029905</td>\n",
              "      <td>0.071214</td>\n",
              "      <td>0.325240</td>\n",
              "      <td>0.098406</td>\n",
              "      <td>0.032345</td>\n",
              "      <td>0.109078</td>\n",
              "      <td>0.274834</td>\n",
              "      <td>0.117009</td>\n",
              "      <td>0.000000</td>\n",
              "      <td>0.057504</td>\n",
              "      <td>0.025327</td>\n",
              "      <td>0.112708</td>\n",
              "      <td>0.000000</td>\n",
              "      <td>0.206716</td>\n",
              "      <td>0.541094</td>\n",
              "    </tr>\n",
              "  </tbody>\n",
              "</table>\n",
              "</div>"
            ],
            "text/plain": [
              "       uid   topic_0   topic_1  ...  topic_17  topic_18  topic_19\n",
              "0  u105138  0.072373  0.018030  ...  0.053819  0.192688  0.372674\n",
              "1  u108690  0.109057  0.086586  ...  0.062808  0.235729  0.113155\n",
              "2  u108339  0.120121  0.000000  ...  0.000000  0.206716  0.541094\n",
              "\n",
              "[3 rows x 21 columns]"
            ]
          },
          "metadata": {},
          "execution_count": 234
        }
      ]
    },
    {
      "cell_type": "markdown",
      "metadata": {
        "id": "dZNF_ZXSMIG8"
      },
      "source": [
        "Датасет готов - можно попробовать обучить модель. Загрузим нашу разметку"
      ]
    },
    {
      "cell_type": "code",
      "metadata": {
        "colab": {
          "base_uri": "https://localhost:8080/",
          "height": 142
        },
        "id": "L2mVHGMPMIG9",
        "outputId": "4a551653-4fab-4ad9-c417-d28a981aeb74"
      },
      "source": [
        "target = pd.read_csv(path+\"users_churn.csv\")\n",
        "target.head(3)"
      ],
      "execution_count": 110,
      "outputs": [
        {
          "output_type": "execute_result",
          "data": {
            "text/html": [
              "<div>\n",
              "<style scoped>\n",
              "    .dataframe tbody tr th:only-of-type {\n",
              "        vertical-align: middle;\n",
              "    }\n",
              "\n",
              "    .dataframe tbody tr th {\n",
              "        vertical-align: top;\n",
              "    }\n",
              "\n",
              "    .dataframe thead th {\n",
              "        text-align: right;\n",
              "    }\n",
              "</style>\n",
              "<table border=\"1\" class=\"dataframe\">\n",
              "  <thead>\n",
              "    <tr style=\"text-align: right;\">\n",
              "      <th></th>\n",
              "      <th>uid</th>\n",
              "      <th>churn</th>\n",
              "    </tr>\n",
              "  </thead>\n",
              "  <tbody>\n",
              "    <tr>\n",
              "      <th>0</th>\n",
              "      <td>u107120</td>\n",
              "      <td>0</td>\n",
              "    </tr>\n",
              "    <tr>\n",
              "      <th>1</th>\n",
              "      <td>u102277</td>\n",
              "      <td>0</td>\n",
              "    </tr>\n",
              "    <tr>\n",
              "      <th>2</th>\n",
              "      <td>u102444</td>\n",
              "      <td>0</td>\n",
              "    </tr>\n",
              "  </tbody>\n",
              "</table>\n",
              "</div>"
            ],
            "text/plain": [
              "       uid  churn\n",
              "0  u107120      0\n",
              "1  u102277      0\n",
              "2  u102444      0"
            ]
          },
          "metadata": {},
          "execution_count": 110
        }
      ]
    },
    {
      "cell_type": "code",
      "metadata": {
        "colab": {
          "base_uri": "https://localhost:8080/",
          "height": 162
        },
        "id": "qXzy3pA2MIG9",
        "outputId": "9bb2c2c6-e878-471b-96e7-1c82af4a94a7"
      },
      "source": [
        "X = pd.merge(user_embeddings, target, 'left')\n",
        "X.head(3)"
      ],
      "execution_count": 235,
      "outputs": [
        {
          "output_type": "execute_result",
          "data": {
            "text/html": [
              "<div>\n",
              "<style scoped>\n",
              "    .dataframe tbody tr th:only-of-type {\n",
              "        vertical-align: middle;\n",
              "    }\n",
              "\n",
              "    .dataframe tbody tr th {\n",
              "        vertical-align: top;\n",
              "    }\n",
              "\n",
              "    .dataframe thead th {\n",
              "        text-align: right;\n",
              "    }\n",
              "</style>\n",
              "<table border=\"1\" class=\"dataframe\">\n",
              "  <thead>\n",
              "    <tr style=\"text-align: right;\">\n",
              "      <th></th>\n",
              "      <th>uid</th>\n",
              "      <th>topic_0</th>\n",
              "      <th>topic_1</th>\n",
              "      <th>topic_2</th>\n",
              "      <th>topic_3</th>\n",
              "      <th>topic_4</th>\n",
              "      <th>topic_5</th>\n",
              "      <th>topic_6</th>\n",
              "      <th>topic_7</th>\n",
              "      <th>topic_8</th>\n",
              "      <th>topic_9</th>\n",
              "      <th>topic_10</th>\n",
              "      <th>topic_11</th>\n",
              "      <th>topic_12</th>\n",
              "      <th>topic_13</th>\n",
              "      <th>topic_14</th>\n",
              "      <th>topic_15</th>\n",
              "      <th>topic_16</th>\n",
              "      <th>topic_17</th>\n",
              "      <th>topic_18</th>\n",
              "      <th>topic_19</th>\n",
              "      <th>churn</th>\n",
              "    </tr>\n",
              "  </thead>\n",
              "  <tbody>\n",
              "    <tr>\n",
              "      <th>0</th>\n",
              "      <td>u105138</td>\n",
              "      <td>0.072373</td>\n",
              "      <td>0.018030</td>\n",
              "      <td>0.190010</td>\n",
              "      <td>0.015544</td>\n",
              "      <td>0.289869</td>\n",
              "      <td>0.048114</td>\n",
              "      <td>0.000000</td>\n",
              "      <td>0.422200</td>\n",
              "      <td>0.224846</td>\n",
              "      <td>0.124943</td>\n",
              "      <td>0.109277</td>\n",
              "      <td>0.382999</td>\n",
              "      <td>0.130407</td>\n",
              "      <td>0.185889</td>\n",
              "      <td>0.019334</td>\n",
              "      <td>0.175788</td>\n",
              "      <td>0.154019</td>\n",
              "      <td>0.053819</td>\n",
              "      <td>0.192688</td>\n",
              "      <td>0.372674</td>\n",
              "      <td>0</td>\n",
              "    </tr>\n",
              "    <tr>\n",
              "      <th>1</th>\n",
              "      <td>u108690</td>\n",
              "      <td>0.109057</td>\n",
              "      <td>0.086586</td>\n",
              "      <td>0.361848</td>\n",
              "      <td>0.346954</td>\n",
              "      <td>0.275419</td>\n",
              "      <td>0.035287</td>\n",
              "      <td>0.000000</td>\n",
              "      <td>0.098516</td>\n",
              "      <td>0.337376</td>\n",
              "      <td>0.038073</td>\n",
              "      <td>0.153141</td>\n",
              "      <td>0.157588</td>\n",
              "      <td>0.077911</td>\n",
              "      <td>0.024346</td>\n",
              "      <td>0.099422</td>\n",
              "      <td>0.016085</td>\n",
              "      <td>0.157998</td>\n",
              "      <td>0.062808</td>\n",
              "      <td>0.235729</td>\n",
              "      <td>0.113155</td>\n",
              "      <td>1</td>\n",
              "    </tr>\n",
              "    <tr>\n",
              "      <th>2</th>\n",
              "      <td>u108339</td>\n",
              "      <td>0.120121</td>\n",
              "      <td>0.000000</td>\n",
              "      <td>0.439112</td>\n",
              "      <td>0.000000</td>\n",
              "      <td>0.212756</td>\n",
              "      <td>0.029905</td>\n",
              "      <td>0.071214</td>\n",
              "      <td>0.325240</td>\n",
              "      <td>0.098406</td>\n",
              "      <td>0.032345</td>\n",
              "      <td>0.109078</td>\n",
              "      <td>0.274834</td>\n",
              "      <td>0.117009</td>\n",
              "      <td>0.000000</td>\n",
              "      <td>0.057504</td>\n",
              "      <td>0.025327</td>\n",
              "      <td>0.112708</td>\n",
              "      <td>0.000000</td>\n",
              "      <td>0.206716</td>\n",
              "      <td>0.541094</td>\n",
              "      <td>1</td>\n",
              "    </tr>\n",
              "  </tbody>\n",
              "</table>\n",
              "</div>"
            ],
            "text/plain": [
              "       uid   topic_0   topic_1   topic_2  ...  topic_17  topic_18  topic_19  churn\n",
              "0  u105138  0.072373  0.018030  0.190010  ...  0.053819  0.192688  0.372674      0\n",
              "1  u108690  0.109057  0.086586  0.361848  ...  0.062808  0.235729  0.113155      1\n",
              "2  u108339  0.120121  0.000000  0.439112  ...  0.000000  0.206716  0.541094      1\n",
              "\n",
              "[3 rows x 22 columns]"
            ]
          },
          "metadata": {},
          "execution_count": 235
        }
      ]
    },
    {
      "cell_type": "code",
      "metadata": {
        "id": "Un-dl_vDMIHM"
      },
      "source": [
        "from sklearn.linear_model import LogisticRegression\n",
        "from sklearn.model_selection import train_test_split\n",
        "#import itertools\n",
        "\n",
        "import matplotlib.pyplot as plt\n",
        "\n",
        "%matplotlib inline"
      ],
      "execution_count": 113,
      "outputs": []
    },
    {
      "cell_type": "code",
      "metadata": {
        "id": "rzq-WEIJMIHO"
      },
      "source": [
        "#разделим данные на train/test\n",
        "X_train, X_test, y_train, y_test = train_test_split(X[['topic_{}'.format(i) for i in range(N_topic)]], \n",
        "                                                    X['churn'], random_state=0, test_size=0.25)"
      ],
      "execution_count": 236,
      "outputs": []
    },
    {
      "cell_type": "code",
      "metadata": {
        "colab": {
          "base_uri": "https://localhost:8080/"
        },
        "id": "EBQsn00QMIHO",
        "outputId": "39d04000-b746-46de-8b85-c949f3f6b4c7"
      },
      "source": [
        "logreg = LogisticRegression(C=1.0)\n",
        "#обучим наш пайплайн\n",
        "logreg.fit(X_train, y_train)"
      ],
      "execution_count": 237,
      "outputs": [
        {
          "output_type": "execute_result",
          "data": {
            "text/plain": [
              "LogisticRegression(C=1.0, class_weight=None, dual=False, fit_intercept=True,\n",
              "                   intercept_scaling=1, l1_ratio=None, max_iter=100,\n",
              "                   multi_class='auto', n_jobs=None, penalty='l2',\n",
              "                   random_state=None, solver='lbfgs', tol=0.0001, verbose=0,\n",
              "                   warm_start=False)"
            ]
          },
          "metadata": {},
          "execution_count": 237
        }
      ]
    },
    {
      "cell_type": "code",
      "metadata": {
        "colab": {
          "base_uri": "https://localhost:8080/"
        },
        "id": "GqftFfoOMIHP",
        "outputId": "2dde5517-9bfb-44dd-a93a-42e58c8739a5"
      },
      "source": [
        "#наши прогнозы для тестовой выборки\n",
        "preds_max = logreg.predict_proba(X_test)[:, 1]\n",
        "preds[:10]"
      ],
      "execution_count": 238,
      "outputs": [
        {
          "output_type": "execute_result",
          "data": {
            "text/plain": [
              "array([0.17907613, 0.01811464, 0.4379154 , 0.13524749, 0.03014379,\n",
              "       0.01789481, 0.08197071, 0.06872045, 0.04072274, 0.16121396])"
            ]
          },
          "metadata": {},
          "execution_count": 238
        }
      ]
    },
    {
      "cell_type": "code",
      "metadata": {
        "id": "nQKM7kKtMIHU"
      },
      "source": [
        "from sklearn.metrics import f1_score, roc_auc_score, precision_score, classification_report, precision_recall_curve, confusion_matrix"
      ],
      "execution_count": 117,
      "outputs": []
    },
    {
      "cell_type": "markdown",
      "metadata": {
        "id": "_X_oDrlNMIHV"
      },
      "source": [
        "### Рассчитаем Precision, Recall, F_score"
      ]
    },
    {
      "cell_type": "code",
      "metadata": {
        "colab": {
          "base_uri": "https://localhost:8080/",
          "height": 295
        },
        "id": "vFnKI0lCQ91K",
        "outputId": "b00cc163-49b6-4355-b40c-f49b572cdeee"
      },
      "source": [
        "\n",
        "plt.plot( preds[:100], label = 'predict')\n",
        "plt.plot(y_test.values[:100], label = 'true')\n",
        "plt.title('ответ модели')\n",
        "plt.xlabel(' № примера')\n",
        "plt.ylabel(' выход')\n",
        "plt.legend()\n",
        "plt.grid('On')\n",
        "plt.show()"
      ],
      "execution_count": 118,
      "outputs": [
        {
          "output_type": "display_data",
          "data": {
            "image/png": "[encoded data removed]",
            "text/plain": [
              "<Figure size 432x288 with 1 Axes>"
            ]
          },
          "metadata": {
            "needs_background": "light"
          }
        }
      ]
    },
    {
      "cell_type": "code",
      "metadata": {
        "id": "J04r8edvMIHV"
      },
      "source": [
        "\n",
        "precision, recall, thresholds = precision_recall_curve(y_test.values, preds_max)\n"
      ],
      "execution_count": 239,
      "outputs": []
    },
    {
      "cell_type": "code",
      "metadata": {
        "colab": {
          "base_uri": "https://localhost:8080/"
        },
        "id": "-yX0uFkCvGTn",
        "outputId": "428a0657-5e31-4db8-9f66-6042d15e5448"
      },
      "source": [
        "roc_auc_score(y_test, preds_max)"
      ],
      "execution_count": 240,
      "outputs": [
        {
          "output_type": "execute_result",
          "data": {
            "text/plain": [
              "0.9566346880632595"
            ]
          },
          "metadata": {},
          "execution_count": 240
        }
      ]
    },
    {
      "cell_type": "code",
      "metadata": {
        "colab": {
          "base_uri": "https://localhost:8080/"
        },
        "id": "a_M4X_aj_1Q-",
        "outputId": "c1644dd9-cac2-4d41-a339-e8f8817e7b99"
      },
      "source": [
        "n=-1\n",
        "fscore = (2 * precision[:n] * recall[:n]) / (precision[:n] + recall[:n])\n",
        "\n",
        "# locate the index of the largest f score\n",
        "ix = np.argmax(fscore)\n",
        "metrics_max = [roc_auc, fscore[ix], precision[ix], recall[ix]]\n",
        "print('Best Threshold=%f, F-Score=%.3f, Precision=%.3f, Recall=%.3f' % (thresholds[ix], \n",
        "                                                                        fscore[ix],\n",
        "                                                                        precision[ix],\n",
        "                                                                        recall[ix]))"
      ],
      "execution_count": 241,
      "outputs": [
        {
          "output_type": "stream",
          "name": "stdout",
          "text": [
            "Best Threshold=0.353474, F-Score=0.728, Precision=0.760, Recall=0.698\n"
          ]
        }
      ]
    },
    {
      "cell_type": "code",
      "metadata": {
        "id": "_IwROJQBup78"
      },
      "source": [
        "metrics_mean.insert(0, 'Mean')\n",
        "metrics_med.insert(0, 'Median')\n",
        "metrics_max.insert(0, 'Max')"
      ],
      "execution_count": 215,
      "outputs": []
    },
    {
      "cell_type": "code",
      "metadata": {
        "colab": {
          "base_uri": "https://localhost:8080/",
          "height": 309
        },
        "id": "OpIn4_MkQk-h",
        "outputId": "6887a81e-c139-435a-aa95-cb0cd2a5af9f"
      },
      "source": [
        "plt.plot(recall[:n],precision[:n] )\n",
        "plt.title(' точность/полнота')\n",
        "plt.xlabel(' полнота')\n",
        "plt.ylabel(' точность')\n",
        "plt.grid('On')\n",
        "plt.show()"
      ],
      "execution_count": 191,
      "outputs": [
        {
          "output_type": "display_data",
          "data": {
            "image/png": "[encoded data removed]",
            "text/plain": [
              "<Figure size 432x288 with 1 Axes>"
            ]
          },
          "metadata": {
            "needs_background": "light"
          }
        }
      ]
    },
    {
      "cell_type": "code",
      "metadata": {
        "id": "HM8ErNID1R8A"
      },
      "source": [
        "from tabulate import tabulate"
      ],
      "execution_count": 193,
      "outputs": []
    },
    {
      "cell_type": "code",
      "metadata": {
        "id": "fGe9uvYRYsQf",
        "colab": {
          "base_uri": "https://localhost:8080/"
        },
        "outputId": "20806b59-0816-404a-b295-fa6c48354c1f"
      },
      "source": [
        "table=[metrics_max, metrics_mean, metrics_med]\n",
        "headers=[\"Type\", \"Roc_auc\",\"F-score\", \"Precision\",\"Recall\"]\n",
        "print(tabulate(table, headers, tablefmt=\"grid\"))"
      ],
      "execution_count": 242,
      "outputs": [
        {
          "output_type": "stream",
          "name": "stdout",
          "text": [
            "+--------+-----------+-----------+-------------+----------+\n",
            "| Type   |   Roc_auc |   F-score |   Precision |   Recall |\n",
            "+========+===========+===========+=============+==========+\n",
            "| Max    |  0.953288 |  0.72766  |    0.76     | 0.697959 |\n",
            "+--------+-----------+-----------+-------------+----------+\n",
            "| Mean   |  0.945115 |  0.671256 |    0.580357 | 0.795918 |\n",
            "+--------+-----------+-----------+-------------+----------+\n",
            "| Median |  0.964044 |  0.726644 |    0.630631 | 0.857143 |\n",
            "+--------+-----------+-----------+-------------+----------+\n"
          ]
        }
      ]
    },
    {
      "cell_type": "markdown",
      "metadata": {
        "id": "KIkZ957Z8SwR"
      },
      "source": [
        "Можно посмотреть, что так оно и было"
      ]
    }
  ]
}